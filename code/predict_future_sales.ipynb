{
 "cells": [
  {
   "cell_type": "markdown",
   "id": "coupled-literacy",
   "metadata": {},
   "source": [
    "# 第一部分：数据基本处理"
   ]
  },
  {
   "cell_type": "markdown",
   "id": "comparable-preservation",
   "metadata": {},
   "source": [
    "## 第一节：数据处理"
   ]
  },
  {
   "cell_type": "code",
   "execution_count": 1,
   "id": "advised-greensboro",
   "metadata": {},
   "outputs": [],
   "source": [
    "import pandas as pd\n",
    "import numpy as np\n",
    "sales_train = pd.read_csv('data/sales_train.csv')\n",
    "test =pd.read_csv('data/test.csv')\n",
    "item_categories = pd.read_csv('data/items.csv')[['item_id','item_category_id']]\n",
    "items =pd.read_csv('data/items.csv')\n",
    "shops =pd.read_csv('data/shops.csv')"
   ]
  },
  {
   "cell_type": "code",
   "execution_count": 2,
   "id": "suffering-system",
   "metadata": {},
   "outputs": [
    {
     "name": "stdout",
     "output_type": "stream",
     "text": [
      "how many lines in train set: (2935849, 6)\n",
      "unique items in train set: 21807\n",
      "unique shops in train set: 60\n",
      "how many lines in test set: (214200, 3)\n",
      "unique items in test set: 5100\n",
      "unique shops in test set: 42\n"
     ]
    }
   ],
   "source": [
    "print('how many lines in train set:', sales_train.shape)\n",
    "print('unique items in train set:', sales_train['item_id'].nunique())\n",
    "print('unique shops in train set:', sales_train['shop_id'].nunique())\n",
    "print('how many lines in test set:', test.shape)\n",
    "print('unique items in test set:', test['item_id'].nunique())\n",
    "print('unique shops in test set:', test['shop_id'].nunique())\n",
    "#训练集，有21807种商品，60个商店。一共2935849 种商品-商店组合。\n",
    "#测试集，有5100 种商品，42个商店。刚好就是5100 * 42 = 214200种 商品-商店组合。"
   ]
  },
  {
   "cell_type": "code",
   "execution_count": 3,
   "id": "chief-working",
   "metadata": {
    "scrolled": true
   },
   "outputs": [
    {
     "name": "stdout",
     "output_type": "stream",
     "text": [
      "------information------\n",
      "<class 'pandas.core.frame.DataFrame'>\n",
      "RangeIndex: 2935849 entries, 0 to 2935848\n",
      "Data columns (total 6 columns):\n",
      " #   Column          Dtype  \n",
      "---  ------          -----  \n",
      " 0   date            object \n",
      " 1   date_block_num  int64  \n",
      " 2   shop_id         int64  \n",
      " 3   item_id         int64  \n",
      " 4   item_price      float64\n",
      " 5   item_cnt_day    float64\n",
      "dtypes: float64(2), int64(3), object(1)\n",
      "memory usage: 134.4+ MB\n",
      "None\n",
      "-----missing value-----\n",
      "date              0\n",
      "date_block_num    0\n",
      "shop_id           0\n",
      "item_id           0\n",
      "item_price        0\n",
      "item_cnt_day      0\n",
      "dtype: int64\n",
      "--------nan value------\n",
      "date              0\n",
      "date_block_num    0\n",
      "shop_id           0\n",
      "item_id           0\n",
      "item_price        0\n",
      "item_cnt_day      0\n",
      "dtype: int64\n"
     ]
    }
   ],
   "source": [
    "print('------information------')\n",
    "print(sales_train.info())\n",
    "print('-----missing value-----')\n",
    "print(sales_train.isnull().sum())\n",
    "print('--------nan value------')\n",
    "print(sales_train.isna().sum())\n",
    "#没有为空的例子"
   ]
  },
  {
   "cell_type": "markdown",
   "id": "ready-storage",
   "metadata": {},
   "source": [
    "因为后续会做大量的特征提取，对存储空间的消耗较大，而且较大的特征集对于模型训练来说也是个负担。在训练集中可以发现，很多数据的动态范围很小，比如date_block_num,shop_id,item_id,用int16存储就足够了。而Item_price, item_cnt_day 用float32 存储也是足够的。这样就可以在不损失信息的前提下，减少一般的存储空间消耗。结果来看从134.4+ MB,减少到了 61.6+ MB。"
   ]
  },
  {
   "cell_type": "code",
   "execution_count": 4,
   "id": "polished-genealogy",
   "metadata": {},
   "outputs": [
    {
     "name": "stdout",
     "output_type": "stream",
     "text": [
      "<class 'pandas.core.frame.DataFrame'>\n",
      "RangeIndex: 2935849 entries, 0 to 2935848\n",
      "Data columns (total 6 columns):\n",
      " #   Column          Dtype  \n",
      "---  ------          -----  \n",
      " 0   date            object \n",
      " 1   date_block_num  int16  \n",
      " 2   shop_id         int16  \n",
      " 3   item_id         int16  \n",
      " 4   item_price      float32\n",
      " 5   item_cnt_day    float32\n",
      "dtypes: float32(2), int16(3), object(1)\n",
      "memory usage: 61.6+ MB\n"
     ]
    }
   ],
   "source": [
    "def downcast_dtypes(df):\n",
    "    cols_float64 = [c for c in df if df[c].dtype == 'float64']\n",
    "    cols_int64_32 = [c for c in df if df[c].dtype in ['int64', 'int32']]\n",
    "    df[cols_float64] = df[cols_float64].astype(np.float32)\n",
    "    df[cols_int64_32] = df[cols_int64_32].astype(np.int16)\n",
    "    return df\n",
    "sales_train = downcast_dtypes(sales_train)\n",
    "test = downcast_dtypes(test)\n",
    "sales_train.info()"
   ]
  },
  {
   "cell_type": "code",
   "execution_count": 5,
   "id": "arbitrary-cornwall",
   "metadata": {},
   "outputs": [],
   "source": [
    "shop_ids = sales_train['shop_id'].unique()\n",
    "item_ids = sales_train['item_id'].unique()\n",
    "empty_df = []\n",
    "for i in range(34):\n",
    "    for shop in shop_ids:\n",
    "        for item in item_ids:\n",
    "            empty_df.append([i, shop, item])\n",
    "    \n",
    "empty_df = pd.DataFrame(empty_df, columns=['date_block_num','shop_id','item_id'])\n",
    " \n",
    "sales_train = pd.merge(empty_df, sales_train, on=['date_block_num','shop_id','item_id'], how='left')\n",
    " \n",
    "sales_train.fillna(0, inplace=True)\n",
    " \n",
    "#sales_train['year'] = sales_train['date_block_num'].apply(lambda x: ((x//12) + 2013))\n",
    "#sales_train['month'] = sales_train['date_block_num'].apply(lambda x: (x % 12))"
   ]
  },
  {
   "cell_type": "code",
   "execution_count": 6,
   "id": "affecting-richards",
   "metadata": {},
   "outputs": [
    {
     "data": {
      "text/plain": [
       "<bound method NDFrame.head of           date_block_num  shop_id  item_id        date  item_price  \\\n",
       "0                      0       59    22154  02.01.2013       999.0   \n",
       "1                      0       59     2552           0         0.0   \n",
       "2                      0       59     2554           0         0.0   \n",
       "3                      0       59     2555           0         0.0   \n",
       "4                      0       59     2564           0         0.0   \n",
       "...                  ...      ...      ...         ...         ...   \n",
       "45813000              33       36     8428           0         0.0   \n",
       "45813001              33       36     7903           0         0.0   \n",
       "45813002              33       36     7610           0         0.0   \n",
       "45813003              33       36     7635           0         0.0   \n",
       "45813004              33       36     7640           0         0.0   \n",
       "\n",
       "          item_cnt_day  \n",
       "0                  1.0  \n",
       "1                  0.0  \n",
       "2                  0.0  \n",
       "3                  0.0  \n",
       "4                  0.0  \n",
       "...                ...  \n",
       "45813000           0.0  \n",
       "45813001           0.0  \n",
       "45813002           0.0  \n",
       "45813003           0.0  \n",
       "45813004           0.0  \n",
       "\n",
       "[45813005 rows x 6 columns]>"
      ]
     },
     "execution_count": 6,
     "metadata": {},
     "output_type": "execute_result"
    }
   ],
   "source": [
    "sales_train.head"
   ]
  },
  {
   "cell_type": "code",
   "execution_count": 7,
   "id": "weird-crisis",
   "metadata": {},
   "outputs": [],
   "source": [
    "sales_train_matrix= sales_train\n",
    "sales_train = sales_train.join(items, on='item_id', rsuffix='_').join(shops, on='shop_id', rsuffix='_').join(item_categories, on='item_category_id', rsuffix='_').drop(['item_id_', 'shop_id_', 'item_category_id_'], axis=1)"
   ]
  },
  {
   "cell_type": "code",
   "execution_count": 8,
   "id": "green-discrimination",
   "metadata": {},
   "outputs": [
    {
     "name": "stdout",
     "output_type": "stream",
     "text": [
      "Not exists in month 27 [36]\n",
      "Not exists in month 28 [36]\n",
      "Not exists in month 29 [36]\n",
      "Not exists in month 30 [36]\n",
      "Not exists in month 31 [36]\n",
      "Not exists in month 32 [36]\n",
      "Not exists in month 33 []\n",
      "Shop is outdated for month 27 [ 0  1  8 11 13 17 23 30 32 40 43]\n",
      "Shop is outdated for month 28 [ 0  1  8 11 13 17 23 30 32 33 40 43 54]\n",
      "Shop is outdated for month 29 [ 0  1  8 11 13 17 23 29 30 32 33 40 43 54]\n",
      "Shop is outdated for month 30 [ 0  1  8 11 13 17 23 29 30 32 33 40 43 54]\n",
      "Shop is outdated for month 31 [ 0  1  8 11 13 17 23 29 30 32 33 40 43 54]\n",
      "Shop is outdated for month 32 [ 0  1  8 11 13 17 23 29 30 32 33 40 43 54]\n",
      "Shop is outdated for month 33 [ 0  1  8 11 13 17 23 27 29 30 32 33 40 43 51 54]\n"
     ]
    }
   ],
   "source": [
    "sales_by_shop_id = sales_train.pivot_table(index=['shop_id'],values=['item_cnt_day'],\\\n",
    "                                           columns='date_block_num', aggfunc=np.sum, fill_value=0).reset_index()\n",
    "#sales_by_shop_id_mean = sales_train.pivot_table(index=['shop_id'],values=['item_cnt_day'],\\\n",
    "#                                           columns='date_block_num', aggfunc=np.mean, fill_value=0).reset_index()\n",
    "#print(sales_by_shop_id)\n",
    "#每一行是一个商店，列是月数，元素为一个商店一个月的销量\n",
    "#print(sales_by_shop_id['shop_id'].nunique())#60个商店\n",
    "sales_by_shop_id.columns = sales_by_shop_id.columns.droplevel().map(str)\n",
    "sales_by_shop_id = sales_by_shop_id.reset_index(drop=True).rename_axis(None, axis=1)\n",
    "sales_by_shop_id.columns.values[0] = 'shop_id'\n",
    "for i in range(27,34):\n",
    "    print('Not exists in month',i,sales_by_shop_id['shop_id'][sales_by_shop_id.loc[:,'0':str(i)].sum(axis=1)==0].unique())\n",
    "#上一行筛选出了最新开的商店\n",
    "for i in range(27,34):\n",
    "    print('Shop is outdated for month',i,sales_by_shop_id['shop_id'][sales_by_shop_id.loc[:,str(i):].sum(axis=1)==0].unique())\n",
    "#上一行筛选出了已经关闭的商店"
   ]
  },
  {
   "cell_type": "code",
   "execution_count": 10,
   "id": "stopped-patio",
   "metadata": {},
   "outputs": [
    {
     "name": "stdout",
     "output_type": "stream",
     "text": [
      "(7388716, 9)\n",
      "unique items in train set: 4737\n",
      "unique shops in train set: 42\n"
     ]
    },
    {
     "data": {
      "text/plain": [
       "False"
      ]
     },
     "execution_count": 10,
     "metadata": {},
     "output_type": "execute_result"
    }
   ],
   "source": [
    "# 数据泄漏(删除训练集中在测试集中不存在的项)\n",
    "\n",
    "test_shop_ids = test['shop_id'].unique()\n",
    "test_item_ids = test['item_id'].unique()\n",
    " \n",
    "lk_train = sales_train[sales_train['shop_id'].isin(test_shop_ids)]\n",
    "lk_train = lk_train[lk_train['item_id'].isin(test_item_ids)] \n",
    "print(lk_train.shape)\n",
    "print('unique items in train set:', lk_train['item_id'].nunique())\n",
    "print('unique shops in train set:', lk_train['shop_id'].nunique())\n",
    "\n",
    "#数据重复\n",
    "lk_train=lk_train.drop_duplicates()\n",
    "lk_train.duplicated().any()\n",
    "test.duplicated().any()"
   ]
  },
  {
   "cell_type": "code",
   "execution_count": 11,
   "id": "coastal-static",
   "metadata": {},
   "outputs": [],
   "source": [
    "sales_train=lk_train"
   ]
  },
  {
   "cell_type": "markdown",
   "id": "pleasant-wages",
   "metadata": {},
   "source": [
    "#  销量和价格的离群值"
   ]
  },
  {
   "cell_type": "markdown",
   "id": "czech-avenue",
   "metadata": {},
   "source": [
    "从sales_train种找到销量和价格的离群值，然后删掉。"
   ]
  },
  {
   "cell_type": "code",
   "execution_count": 12,
   "id": "acceptable-edinburgh",
   "metadata": {},
   "outputs": [
    {
     "data": {
      "text/plain": [
       "<AxesSubplot:xlabel='item_price'>"
      ]
     },
     "execution_count": 12,
     "metadata": {},
     "output_type": "execute_result"
    },
    {
     "data": {
      "image/png": "[encoded data removed]",
      "text/plain": [
       "<Figure size 720x288 with 1 Axes>"
      ]
     },
     "metadata": {
      "needs_background": "light"
     },
     "output_type": "display_data"
    },
    {
     "data": {
      "image/png": "[encoded data removed]",
      "text/plain": [
       "<Figure size 720x288 with 1 Axes>"
      ]
     },
     "metadata": {
      "needs_background": "light"
     },
     "output_type": "display_data"
    }
   ],
   "source": [
    "import seaborn as sns\n",
    "import matplotlib.pyplot as plt\n",
    "#sales_train = sales_train[sales_train['item_cnt_day'] <1001]\n",
    "#sales_train = sales_train[sales_train['item_price'] < 300000]\n",
    "plt.figure(figsize=(10,4))\n",
    "plt.xlim(-100,3000)\n",
    "sns.boxplot(x = sales_train['item_cnt_day'])\n",
    "\n",
    "plt.figure(figsize=(10,4))\n",
    "plt.xlim(-10000,320000)\n",
    "sns.boxplot(x = sales_train['item_price'])\n",
    "\n"
   ]
  },
  {
   "cell_type": "markdown",
   "id": "separate-identity",
   "metadata": {},
   "source": [
    "将商品价格为负值的项改为median(中值)"
   ]
  },
  {
   "cell_type": "code",
   "execution_count": 13,
   "id": "classified-unemployment",
   "metadata": {},
   "outputs": [
    {
     "name": "stdout",
     "output_type": "stream",
     "text": [
      "Empty DataFrame\n",
      "Columns: [date_block_num, shop_id, item_id, date, item_price, item_cnt_day, item_name, item_category_id, shop_name]\n",
      "Index: []\n",
      "Empty DataFrame\n",
      "Columns: [date_block_num, shop_id, item_id, date, item_price, item_cnt_day, item_name, item_category_id, shop_name]\n",
      "Index: []\n"
     ]
    }
   ],
   "source": [
    "import matplotlib.pyplot as plt\n",
    "print(sales_train[sales_train['item_price']<0])\n",
    "median = sales_train[(sales_train['date_block_num'] == 4)&\\\n",
    "                     (sales_train['shop_id'] == 32)&\\\n",
    "                     (sales_train['item_id'] == 2973)&\\\n",
    "                     (sales_train['item_price']>0)].item_price.median()\n",
    "sales_train.loc[sales_train['item_price']<0,'item_price'] = median\n",
    "print(sales_train[sales_train['item_price']<0])"
   ]
  },
  {
   "cell_type": "markdown",
   "id": "harmful-python",
   "metadata": {},
   "source": [
    "# 第二节：数据分析"
   ]
  },
  {
   "cell_type": "markdown",
   "id": "specific-spectrum",
   "metadata": {},
   "source": [
    "# 2.1：每月所有商品的销量"
   ]
  },
  {
   "cell_type": "code",
   "execution_count": 14,
   "id": "accredited-wilson",
   "metadata": {},
   "outputs": [],
   "source": [
    "sales_train.head\n",
    "train_monthly = sales_train[['date', 'date_block_num', 'shop_id', 'item_category_id', 'item_id', 'item_price', 'item_cnt_day']]"
   ]
  },
  {
   "cell_type": "code",
   "execution_count": 15,
   "id": "entertaining-venezuela",
   "metadata": {},
   "outputs": [
    {
     "name": "stdout",
     "output_type": "stream",
     "text": [
      "<class 'pandas.core.frame.DataFrame'>\n",
      "Int64Index: 7388711 entries, 0 to 45813000\n",
      "Data columns (total 7 columns):\n",
      " #   Column            Dtype  \n",
      "---  ------            -----  \n",
      " 0   date              object \n",
      " 1   date_block_num    int64  \n",
      " 2   shop_id           int64  \n",
      " 3   item_category_id  int64  \n",
      " 4   item_id           int64  \n",
      " 5   item_price        float32\n",
      " 6   item_cnt_day      float32\n",
      "dtypes: float32(2), int64(4), object(1)\n",
      "memory usage: 394.6+ MB\n"
     ]
    }
   ],
   "source": [
    "train_monthly.info()"
   ]
  },
  {
   "cell_type": "code",
   "execution_count": 16,
   "id": "white-lithuania",
   "metadata": {},
   "outputs": [
    {
     "data": {
      "text/html": [
       "<div>\n",
       "<style scoped>\n",
       "    .dataframe tbody tr th:only-of-type {\n",
       "        vertical-align: middle;\n",
       "    }\n",
       "\n",
       "    .dataframe tbody tr th {\n",
       "        vertical-align: top;\n",
       "    }\n",
       "\n",
       "    .dataframe thead th {\n",
       "        text-align: right;\n",
       "    }\n",
       "</style>\n",
       "<table border=\"1\" class=\"dataframe\">\n",
       "  <thead>\n",
       "    <tr style=\"text-align: right;\">\n",
       "      <th></th>\n",
       "      <th>date_block_num</th>\n",
       "      <th>shop_id</th>\n",
       "      <th>item_category_id</th>\n",
       "      <th>item_id</th>\n",
       "      <th>item_price</th>\n",
       "      <th>mean_item_price</th>\n",
       "      <th>item_cnt</th>\n",
       "      <th>mean_item_cnt</th>\n",
       "    </tr>\n",
       "  </thead>\n",
       "  <tbody>\n",
       "    <tr>\n",
       "      <th>0</th>\n",
       "      <td>0</td>\n",
       "      <td>2</td>\n",
       "      <td>2</td>\n",
       "      <td>5572</td>\n",
       "      <td>10730.0</td>\n",
       "      <td>1532.857178</td>\n",
       "      <td>9.0</td>\n",
       "      <td>1.285714</td>\n",
       "    </tr>\n",
       "    <tr>\n",
       "      <th>1</th>\n",
       "      <td>0</td>\n",
       "      <td>2</td>\n",
       "      <td>2</td>\n",
       "      <td>5621</td>\n",
       "      <td>0.0</td>\n",
       "      <td>0.000000</td>\n",
       "      <td>0.0</td>\n",
       "      <td>0.000000</td>\n",
       "    </tr>\n",
       "    <tr>\n",
       "      <th>2</th>\n",
       "      <td>0</td>\n",
       "      <td>2</td>\n",
       "      <td>2</td>\n",
       "      <td>5634</td>\n",
       "      <td>0.0</td>\n",
       "      <td>0.000000</td>\n",
       "      <td>0.0</td>\n",
       "      <td>0.000000</td>\n",
       "    </tr>\n",
       "    <tr>\n",
       "      <th>3</th>\n",
       "      <td>0</td>\n",
       "      <td>2</td>\n",
       "      <td>2</td>\n",
       "      <td>5637</td>\n",
       "      <td>0.0</td>\n",
       "      <td>0.000000</td>\n",
       "      <td>0.0</td>\n",
       "      <td>0.000000</td>\n",
       "    </tr>\n",
       "    <tr>\n",
       "      <th>4</th>\n",
       "      <td>0</td>\n",
       "      <td>2</td>\n",
       "      <td>2</td>\n",
       "      <td>5638</td>\n",
       "      <td>0.0</td>\n",
       "      <td>0.000000</td>\n",
       "      <td>0.0</td>\n",
       "      <td>0.000000</td>\n",
       "    </tr>\n",
       "    <tr>\n",
       "      <th>6764431</th>\n",
       "      <td>33</td>\n",
       "      <td>59</td>\n",
       "      <td>79</td>\n",
       "      <td>17717</td>\n",
       "      <td>8025.5</td>\n",
       "      <td>802.549988</td>\n",
       "      <td>13.0</td>\n",
       "      <td>1.300000</td>\n",
       "    </tr>\n",
       "    <tr>\n",
       "      <th>6764432</th>\n",
       "      <td>33</td>\n",
       "      <td>59</td>\n",
       "      <td>83</td>\n",
       "      <td>22087</td>\n",
       "      <td>357.0</td>\n",
       "      <td>119.000000</td>\n",
       "      <td>6.0</td>\n",
       "      <td>2.000000</td>\n",
       "    </tr>\n",
       "    <tr>\n",
       "      <th>6764433</th>\n",
       "      <td>33</td>\n",
       "      <td>59</td>\n",
       "      <td>83</td>\n",
       "      <td>22088</td>\n",
       "      <td>238.0</td>\n",
       "      <td>119.000000</td>\n",
       "      <td>2.0</td>\n",
       "      <td>1.000000</td>\n",
       "    </tr>\n",
       "    <tr>\n",
       "      <th>6764434</th>\n",
       "      <td>33</td>\n",
       "      <td>59</td>\n",
       "      <td>83</td>\n",
       "      <td>22091</td>\n",
       "      <td>179.0</td>\n",
       "      <td>179.000000</td>\n",
       "      <td>1.0</td>\n",
       "      <td>1.000000</td>\n",
       "    </tr>\n",
       "    <tr>\n",
       "      <th>6764435</th>\n",
       "      <td>33</td>\n",
       "      <td>59</td>\n",
       "      <td>83</td>\n",
       "      <td>22092</td>\n",
       "      <td>0.0</td>\n",
       "      <td>0.000000</td>\n",
       "      <td>0.0</td>\n",
       "      <td>0.000000</td>\n",
       "    </tr>\n",
       "  </tbody>\n",
       "</table>\n",
       "</div>"
      ],
      "text/plain": [
       "         date_block_num  shop_id  item_category_id  item_id  item_price  \\\n",
       "0                     0        2                 2     5572     10730.0   \n",
       "1                     0        2                 2     5621         0.0   \n",
       "2                     0        2                 2     5634         0.0   \n",
       "3                     0        2                 2     5637         0.0   \n",
       "4                     0        2                 2     5638         0.0   \n",
       "6764431              33       59                79    17717      8025.5   \n",
       "6764432              33       59                83    22087       357.0   \n",
       "6764433              33       59                83    22088       238.0   \n",
       "6764434              33       59                83    22091       179.0   \n",
       "6764435              33       59                83    22092         0.0   \n",
       "\n",
       "         mean_item_price  item_cnt  mean_item_cnt  \n",
       "0            1532.857178       9.0       1.285714  \n",
       "1               0.000000       0.0       0.000000  \n",
       "2               0.000000       0.0       0.000000  \n",
       "3               0.000000       0.0       0.000000  \n",
       "4               0.000000       0.0       0.000000  \n",
       "6764431       802.549988      13.0       1.300000  \n",
       "6764432       119.000000       6.0       2.000000  \n",
       "6764433       119.000000       2.0       1.000000  \n",
       "6764434       179.000000       1.0       1.000000  \n",
       "6764435         0.000000       0.0       0.000000  "
      ]
     },
     "execution_count": 16,
     "metadata": {},
     "output_type": "execute_result"
    }
   ],
   "source": [
    " #每个月各种商品卖多少\n",
    "train_monthly = train_monthly.groupby(['date_block_num', 'shop_id', 'item_category_id', 'item_id'], as_index=False)\n",
    "train_monthly = train_monthly.agg({'item_price':['sum', 'mean'], 'item_cnt_day':['sum', 'mean']})\n",
    "# Rename features.\n",
    "train_monthly.columns = ['date_block_num', 'shop_id', 'item_category_id', 'item_id', 'item_price', 'mean_item_price', 'item_cnt', 'mean_item_cnt']\n",
    "train_monthly.head().append(train_monthly.tail())"
   ]
  },
  {
   "cell_type": "code",
   "execution_count": 17,
   "id": "binary-suite",
   "metadata": {},
   "outputs": [],
   "source": [
    "gp_category_mean = train_monthly.groupby(['item_category_id'], as_index=False)['item_cnt'].mean()\n",
    "gp_category_sum = train_monthly.groupby(['item_category_id'], as_index=False)['item_cnt'].sum()\n",
    "gp_shop_mean = train_monthly.groupby(['shop_id'], as_index=False)['item_cnt'].mean()\n",
    "gp_shop_sum = train_monthly.groupby(['shop_id'], as_index=False)['item_cnt'].sum()"
   ]
  },
  {
   "cell_type": "code",
   "execution_count": 18,
   "id": "acute-composition",
   "metadata": {},
   "outputs": [
    {
     "data": {
      "text/plain": [
       "<AxesSubplot:xlabel='month', ylabel='item total count'>"
      ]
     },
     "execution_count": 18,
     "metadata": {},
     "output_type": "execute_result"
    },
    {
     "data": {
      "image/png": "[encoded data removed]",
      "text/plain": [
       "<Figure size 432x288 with 1 Axes>"
      ]
     },
     "metadata": {
      "needs_background": "light"
     },
     "output_type": "display_data"
    }
   ],
   "source": [
    "#上面是每种商品每个月的销售量\n",
    "#droplevel()的参数是column，所以删除行\n",
    "#print(sales_by_item_id.sum()[1:])\n",
    "#sum是将每一列第一行+到最后一行，即每月销售的所有商品的数量\n",
    "#[1:]是第一行到最后一行\n",
    "sales_by_item_id = sales_train.pivot_table(index=['item_id'],values=['item_cnt_day'], \n",
    "                                        columns='date_block_num', aggfunc=np.sum, fill_value=0).reset_index()\n",
    "sales_by_item_id.columns = sales_by_item_id.columns.droplevel().map(str)\n",
    "sales_by_item_id = sales_by_item_id.reset_index(drop=True).rename_axis(None, axis=1)\n",
    "sales_by_item_id.columns.values[0] = 'item_id'\n",
    "sales_by_item_id.sum()[1:].plot(legend=True, label=\"Monthly sum\",xlabel=\"month\",ylabel=\"item total count\")\n",
    "#说明月份与商品的销量有关:年末的销量是增加的"
   ]
  },
  {
   "cell_type": "markdown",
   "id": "actual-directory",
   "metadata": {},
   "source": [
    "# 2.2：每个商店的销量"
   ]
  },
  {
   "cell_type": "markdown",
   "id": "later-cambridge",
   "metadata": {},
   "source": [
    "一共有 60 个商店，坐落在31个城市,城市的信息可以作为商店的一个特征。<br/>\n",
    "这里先分析下哪些商店是最近才开的，哪些是已经关闭了的，同样分析最后六个月的数据。\n",
    "shop_id = 36 是新商店<br/>\n",
    "shop_id = [0 1 8 11 13 17 23 29 30 32 33 40 43 54] 可以认为是已经关闭了。因为其四个月已经没有销量了<br/>\n",
    "Tips：新商店，可以直接用第33个月来预测34个月的销量，因为它没有任何历史数据。而已经关闭的商店，销量可以直接置零."
   ]
  },
  {
   "cell_type": "code",
   "execution_count": 19,
   "id": "wooden-knitting",
   "metadata": {},
   "outputs": [
    {
     "data": {
      "text/plain": [
       "0      0\n",
       "1      1\n",
       "2      2\n",
       "3      3\n",
       "4      4\n",
       "5      5\n",
       "6      6\n",
       "7      7\n",
       "8      8\n",
       "9      9\n",
       "10    10\n",
       "11    11\n",
       "12    12\n",
       "13    13\n",
       "14    14\n",
       "15    15\n",
       "16    16\n",
       "17    17\n",
       "18    18\n",
       "19    19\n",
       "20    20\n",
       "21    21\n",
       "22    22\n",
       "23    23\n",
       "24    24\n",
       "25    25\n",
       "26    26\n",
       "27    27\n",
       "28    28\n",
       "29    29\n",
       "30    30\n",
       "31    31\n",
       "32    32\n",
       "33    33\n",
       "34    34\n",
       "35    35\n",
       "36    36\n",
       "37    37\n",
       "38    38\n",
       "39    39\n",
       "40    40\n",
       "41    41\n",
       "42    42\n",
       "43    43\n",
       "44    44\n",
       "45    45\n",
       "46    46\n",
       "47    47\n",
       "48    48\n",
       "49    49\n",
       "50    50\n",
       "51    51\n",
       "52    52\n",
       "53    53\n",
       "54    54\n",
       "55    55\n",
       "56    56\n",
       "57    57\n",
       "58    58\n",
       "59    59\n",
       "Name: shop_id, dtype: int64"
      ]
     },
     "execution_count": 19,
     "metadata": {},
     "output_type": "execute_result"
    }
   ],
   "source": [
    "sales_by_shop_id['shop_id']"
   ]
  },
  {
   "cell_type": "code",
   "execution_count": 20,
   "id": "artificial-poker",
   "metadata": {},
   "outputs": [
    {
     "data": {
      "image/png": "[encoded data removed]",
      "text/plain": [
       "<Figure size 1584x720 with 2 Axes>"
      ]
     },
     "metadata": {
      "needs_background": "light"
     },
     "output_type": "display_data"
    }
   ],
   "source": [
    "f, axes = plt.subplots(2, 1, figsize=(22, 10), sharex=True)\n",
    "sns.barplot(x=\"shop_id\", y=\"item_cnt\", data=gp_shop_mean, ax=axes[0], palette=\"rocket\").set_title(\"Monthly mean\")\n",
    "sns.barplot(x=\"shop_id\", y=\"item_cnt\", data=gp_shop_sum, ax=axes[1], palette=\"rocket\").set_title(\"Monthly sum\")\n",
    "plt.show()"
   ]
  },
  {
   "cell_type": "markdown",
   "id": "commercial-massage",
   "metadata": {},
   "source": [
    "# 2.3商品种类"
   ]
  },
  {
   "cell_type": "code",
   "execution_count": 21,
   "id": "liquid-disney",
   "metadata": {},
   "outputs": [
    {
     "data": {
      "image/png": "[encoded data removed]",
      "text/plain": [
       "<Figure size 1584x720 with 2 Axes>"
      ]
     },
     "metadata": {
      "needs_background": "light"
     },
     "output_type": "display_data"
    }
   ],
   "source": [
    "import matplotlib.pyplot as plt\n",
    "import seaborn as sns\n",
    "f, axes = plt.subplots(2, 1, figsize=(22, 10), sharex=True)\n",
    "sns.barplot(x=\"item_category_id\", y=\"item_cnt\", data=gp_category_mean, ax=axes[0], palette=\"rocket\").set_title(\"Monthly mean\")\n",
    "sns.barplot(x=\"item_category_id\", y=\"item_cnt\", data=gp_category_sum, ax=axes[1], palette=\"rocket\").set_title(\"Monthly sum\")\n",
    "plt.show()"
   ]
  },
  {
   "cell_type": "markdown",
   "id": "flying-slope",
   "metadata": {},
   "source": [
    "我们发现只有部分category对销量具有突出的贡献。"
   ]
  },
  {
   "cell_type": "markdown",
   "id": "portable-hanging",
   "metadata": {},
   "source": [
    "# 2.4 测试集分析"
   ]
  },
  {
   "cell_type": "markdown",
   "id": "understanding-index",
   "metadata": {},
   "source": [
    "测试集有5100 种商品，42个商店。刚好就是5100 * 42 = 214200种 商品-商店组合。可以分为三大类<br/>\n",
    "\n",
    "363种商品在训练集没有出现，363*42=15,246种商品-商店没有数据，约占7%。<br/>\n",
    "87550种商品-商店组合是只出现过商品，没出现过组合。约占42%。<br/>\n",
    "111404种商品-商店组合是在训练集中完整出现过的。约占51%。"
   ]
  },
  {
   "cell_type": "code",
   "execution_count": 22,
   "id": "threatened-integration",
   "metadata": {},
   "outputs": [
    {
     "name": "stdout",
     "output_type": "stream",
     "text": [
      "1. Number of good pairs: 198954\n",
      "2. No Data Items: 15246\n",
      "3. Only Item_id Info: 0\n"
     ]
    }
   ],
   "source": [
    "test = pd.read_csv('data/test.csv')\n",
    "good_sales = test.merge(sales_train, on=['item_id','shop_id'], how='left').dropna()\n",
    "good_pairs = test[test['ID'].isin(good_sales['ID'])]\n",
    "no_data_items = test[~(test['item_id'].isin(sales_train['item_id']))]\n",
    "\n",
    "print('1. Number of good pairs:', len(good_pairs))\n",
    "print('2. No Data Items:', len(no_data_items))\n",
    "print('3. Only Item_id Info:', len(test)-len(no_data_items)-len(good_pairs))"
   ]
  },
  {
   "cell_type": "markdown",
   "id": "mechanical-comparative",
   "metadata": {},
   "source": [
    "# 2.5 商店特征"
   ]
  },
  {
   "cell_type": "markdown",
   "id": "fatty-topic",
   "metadata": {},
   "source": [
    "# 2.5.1 商店信息清洗"
   ]
  },
  {
   "cell_type": "markdown",
   "id": "animated-spoke",
   "metadata": {},
   "source": [
    "商店名里已经包含了很多特征，可以按以下结构分解。<br/>\n",
    "\n",
    "城市 | 类型 | 名称"
   ]
  },
  {
   "cell_type": "code",
   "execution_count": 23,
   "id": "enhanced-failure",
   "metadata": {},
   "outputs": [
    {
     "name": "stdout",
     "output_type": "stream",
     "text": [
      "0                       !Якутск Орджоникидзе, 56 фран\n",
      "1                       !Якутск ТЦ \"Центральный\" фран\n",
      "2                                    Адыгея ТЦ \"Мега\"\n",
      "3                      Балашиха ТРК \"Октябрь-Киномир\"\n",
      "4                            Волжский ТЦ \"Волга Молл\"\n",
      "5                              Вологда ТРЦ \"Мармелад\"\n",
      "6                          Воронеж (Плехановская, 13)\n",
      "7                              Воронеж ТРЦ \"Максимир\"\n",
      "8                        Воронеж ТРЦ Сити-Парк \"Град\"\n",
      "9                                   Выездная Торговля\n",
      "10                         Жуковский ул. Чкалова 39м?\n",
      "11                         Жуковский ул. Чкалова 39м²\n",
      "12                                Интернет-магазин ЧС\n",
      "13                                Казань ТЦ \"Бехетле\"\n",
      "14                            Казань ТЦ \"ПаркХаус\" II\n",
      "15                               Калуга ТРЦ \"XXI век\"\n",
      "16                                   Коломна ТЦ \"Рио\"\n",
      "17                      Красноярск ТЦ \"Взлетка Плаза\"\n",
      "18                               Красноярск ТЦ \"Июнь\"\n",
      "19                              Курск ТЦ \"Пушкинский\"\n",
      "20                                Москва \"Распродажа\"\n",
      "21                             Москва МТРЦ \"Афи Молл\"\n",
      "22                                 Москва Магазин С21\n",
      "23                   Москва ТК \"Буденовский\" (пав.А2)\n",
      "24                   Москва ТК \"Буденовский\" (пав.К7)\n",
      "25                                Москва ТРК \"Атриум\"\n",
      "26                        Москва ТЦ \"Ареал\" (Беляево)\n",
      "27                     Москва ТЦ \"МЕГА Белая Дача II\"\n",
      "28                    Москва ТЦ \"МЕГА Теплый Стан\" II\n",
      "29                 Москва ТЦ \"Новый век\" (Новокосино)\n",
      "30                             Москва ТЦ \"Перловский\"\n",
      "31                            Москва ТЦ \"Семеновский\"\n",
      "32                         Москва ТЦ \"Серебряный Дом\"\n",
      "33                                  Мытищи ТРК \"XL-3\"\n",
      "34                               Н.Новгород ТРЦ \"РИО\"\n",
      "35                        Н.Новгород ТРЦ \"Фантастика\"\n",
      "36              Новосибирск ТРЦ \"Галерея Новосибирск\"\n",
      "37                              Новосибирск ТЦ \"Мега\"\n",
      "38                                     Омск ТЦ \"Мега\"\n",
      "39              РостовНаДону ТРК \"Мегацентр Горизонт\"\n",
      "40    РостовНаДону ТРК \"Мегацентр Горизонт\" Островной\n",
      "41                             РостовНаДону ТЦ \"Мега\"\n",
      "42                             СПб ТК \"Невский Центр\"\n",
      "43                                    СПб ТК \"Сенная\"\n",
      "44                                Самара ТЦ \"Мелодия\"\n",
      "45                               Самара ТЦ \"ПаркХаус\"\n",
      "46                              Сергиев Посад ТЦ \"7Я\"\n",
      "47                             Сургут ТРЦ \"Сити Молл\"\n",
      "48                       Томск ТРЦ \"Изумрудный Город\"\n",
      "49                              Тюмень ТРЦ \"Кристалл\"\n",
      "50                                 Тюмень ТЦ \"Гудвин\"\n",
      "51                          Тюмень ТЦ \"Зеленый Берег\"\n",
      "52                               Уфа ТК \"Центральный\"\n",
      "53                                   Уфа ТЦ \"Семья\" 2\n",
      "54                                    Химки ТЦ \"Мега\"\n",
      "55                           Цифровой склад 1С-Онлайн\n",
      "56                               Чехов ТРЦ \"Карнавал\"\n",
      "57                            Якутск Орджоникидзе, 56\n",
      "58                            Якутск ТЦ \"Центральный\"\n",
      "59                             Ярославль ТЦ \"Альтаир\"\n",
      "Name: shop_name, dtype: object\n"
     ]
    }
   ],
   "source": [
    "shops = pd.read_csv('data/shops.csv')\n",
    "shops_name=shops.shop_name\n",
    "print(shops_name)\n",
    "#print(shops.shop_name.duplicated(False))\n",
    "shops_duplicated = shops[shops.shop_name.duplicated(False)]\n",
    "#print(shops_duplicated)"
   ]
  },
  {
   "cell_type": "markdown",
   "id": "instrumental-proxy",
   "metadata": {},
   "source": [
    "经过分析，发现以下商店名为同一个商店，可以合并shop_id.\n",
    "* 11 => 10\n",
    "* 1 => 58\n",
    "* 0 => 57\n",
    "* 40 => 39\n",
    "查看测试集，发现 shop id [0,1,11,40] 都不存在。<br/>\n",
    "shop_id = 0, 1 仅仅存在了两个月，而 shop_id = 57,58 看起来就像是继任者。<br/>\n",
    "shop_id = 11 仅仅存在于 date_block = 25,而 shop_id = 10 只在那个月没有数据。<br/>\n",
    "shop_id = 40 仅仅存在于 date_block = [14,25] 而 shop_id = 39 在 date_block = 14 之后一直存在。<br/>\n",
    "shop_id = 46,商店名中间多了一个空格，会影响到编码，要去掉。 Сергиев Посад ТЦ “7Я”<br/>\n",
    "通过商店命名，我发现shop 12 and 55都是网店，并且发现他们的销量的相关度很高，只是不知道怎么用这个信息。<br/>"
   ]
  },
  {
   "cell_type": "code",
   "execution_count": 24,
   "id": "heard-american",
   "metadata": {},
   "outputs": [
    {
     "data": {
      "text/plain": [
       "array([[1.        , 0.69647514],\n",
       "       [0.69647514, 1.        ]])"
      ]
     },
     "execution_count": 24,
     "metadata": {},
     "output_type": "execute_result"
    }
   ],
   "source": [
    "sales12 = np.array(sales_by_shop_id.loc[sales_by_shop_id['shop_id'] == 12 ].values)\n",
    "sales12 = sales12[:,1:].reshape(-1)\n",
    "sales55 = np.array(sales_by_shop_id.loc[sales_by_shop_id['shop_id'] == 55 ].values)\n",
    "sales55 = sales55[:,1:].reshape(-1)\n",
    "months = np.array(sales_by_shop_id.loc[sales_by_shop_id['shop_id'] == 12 ].columns[1:])\n",
    "np.corrcoef(sales12,sales55)\n"
   ]
  },
  {
   "cell_type": "code",
   "execution_count": 25,
   "id": "associate-raise",
   "metadata": {},
   "outputs": [],
   "source": [
    "test.shop_id.sort_values().unique()\n",
    "sales_train.loc[sales_train['shop_id'] == 0,'shop_id'] = 57\n",
    "sales_train.loc[sales_train['shop_id'] == 1,'shop_id'] = 58\n",
    "sales_train.loc[sales_train['shop_id'] == 11,'shop_id'] = 10\n",
    "sales_train.loc[sales_train['shop_id'] == 40,'shop_id'] = 39\n"
   ]
  },
  {
   "cell_type": "code",
   "execution_count": 26,
   "id": "brown-fiction",
   "metadata": {},
   "outputs": [],
   "source": [
    "#^表示匹配以其后字符串开头的字符串。\n",
    "#\\w:匹配字母数字及下划线\n",
    "#\\s:匹配任意空白字符，等价于 [ \\t\\n\\r\\f]。\n",
    "#strip方法删除字符串头和尾的字符，默认是空格\n",
    "#str.replace(str1,str2):将str中的str1替换成str2"
   ]
  },
  {
   "cell_type": "markdown",
   "id": "standard-flour",
   "metadata": {},
   "source": [
    "# 2.5.2商店信息编码"
   ]
  },
  {
   "cell_type": "code",
   "execution_count": 27,
   "id": "secure-vinyl",
   "metadata": {},
   "outputs": [
    {
     "name": "stderr",
     "output_type": "stream",
     "text": [
      "<ipython-input-27-03d5327d693e>:2: FutureWarning: The default value of regex will change from True to False in a future version.\n",
      "  shops['shop_name'] = shops['shop_name'].apply\\\n"
     ]
    },
    {
     "data": {
      "text/html": [
       "<div>\n",
       "<style scoped>\n",
       "    .dataframe tbody tr th:only-of-type {\n",
       "        vertical-align: middle;\n",
       "    }\n",
       "\n",
       "    .dataframe tbody tr th {\n",
       "        vertical-align: top;\n",
       "    }\n",
       "\n",
       "    .dataframe thead th {\n",
       "        text-align: right;\n",
       "    }\n",
       "</style>\n",
       "<table border=\"1\" class=\"dataframe\">\n",
       "  <thead>\n",
       "    <tr style=\"text-align: right;\">\n",
       "      <th></th>\n",
       "      <th>shop_name</th>\n",
       "      <th>shop_id</th>\n",
       "      <th>shop_city</th>\n",
       "      <th>shop_type</th>\n",
       "      <th>shop_city_code</th>\n",
       "      <th>shop_type_code</th>\n",
       "    </tr>\n",
       "  </thead>\n",
       "  <tbody>\n",
       "    <tr>\n",
       "      <th>0</th>\n",
       "      <td>якутск орджоникидзе  фран</td>\n",
       "      <td>0</td>\n",
       "      <td>якутск</td>\n",
       "      <td>NO_DATA</td>\n",
       "      <td>29</td>\n",
       "      <td>0</td>\n",
       "    </tr>\n",
       "    <tr>\n",
       "      <th>1</th>\n",
       "      <td>якутск тц центральный фран</td>\n",
       "      <td>1</td>\n",
       "      <td>якутск</td>\n",
       "      <td>тц</td>\n",
       "      <td>29</td>\n",
       "      <td>5</td>\n",
       "    </tr>\n",
       "    <tr>\n",
       "      <th>2</th>\n",
       "      <td>адыгея тц мега</td>\n",
       "      <td>2</td>\n",
       "      <td>адыгея</td>\n",
       "      <td>тц</td>\n",
       "      <td>0</td>\n",
       "      <td>5</td>\n",
       "    </tr>\n",
       "    <tr>\n",
       "      <th>3</th>\n",
       "      <td>балашиха трк октябрькиномир</td>\n",
       "      <td>3</td>\n",
       "      <td>балашиха</td>\n",
       "      <td>трк</td>\n",
       "      <td>1</td>\n",
       "      <td>3</td>\n",
       "    </tr>\n",
       "    <tr>\n",
       "      <th>4</th>\n",
       "      <td>волжский тц волга молл</td>\n",
       "      <td>4</td>\n",
       "      <td>волжский</td>\n",
       "      <td>тц</td>\n",
       "      <td>2</td>\n",
       "      <td>5</td>\n",
       "    </tr>\n",
       "  </tbody>\n",
       "</table>\n",
       "</div>"
      ],
      "text/plain": [
       "                     shop_name  shop_id shop_city shop_type  shop_city_code  \\\n",
       "0    якутск орджоникидзе  фран        0    якутск   NO_DATA              29   \n",
       "1   якутск тц центральный фран        1    якутск        тц              29   \n",
       "2               адыгея тц мега        2    адыгея        тц               0   \n",
       "3  балашиха трк октябрькиномир        3  балашиха       трк               1   \n",
       "4       волжский тц волга молл        4  волжский        тц               2   \n",
       "\n",
       "   shop_type_code  \n",
       "0               0  \n",
       "1               5  \n",
       "2               5  \n",
       "3               3  \n",
       "4               5  "
      ]
     },
     "execution_count": 27,
     "metadata": {},
     "output_type": "execute_result"
    }
   ],
   "source": [
    "from sklearn.preprocessing import LabelEncoder\n",
    "shops['shop_name'] = shops['shop_name'].apply\\\n",
    "(lambda x: x.lower()).str.replace('[^\\w\\s]', '').str.replace\\\n",
    "('\\d+','').str.strip()\n",
    "shops['shop_city'] = shops['shop_name'].str.partition(' ')[0]\n",
    "shops['shop_type'] = shops['shop_name'].apply(lambda x: 'мтрц' if 'мтрц' in x \\\n",
    "                                              else 'трц' if 'трц' in x else 'трк' \\\n",
    "                                              if 'трк' in x else 'тц' if 'тц' in x else 'тк' \\\n",
    "                                              if 'тк' in x else 'NO_DATA')\n",
    "shops.head()\n",
    "shops['shop_city_code'] = LabelEncoder().fit_transform(shops['shop_city'])\n",
    "shops['shop_type_code'] = LabelEncoder().fit_transform(shops['shop_type'])\n",
    "shops.head()\n"
   ]
  },
  {
   "cell_type": "markdown",
   "id": "special-madison",
   "metadata": {},
   "source": [
    "# 2.6 商品分类特征"
   ]
  },
  {
   "cell_type": "markdown",
   "id": "economic-moldova",
   "metadata": {},
   "source": [
    "商品类别之间的距离不好确定，使用one hot编码更加合适。"
   ]
  },
  {
   "cell_type": "code",
   "execution_count": 28,
   "id": "lesbian-courtesy",
   "metadata": {},
   "outputs": [
    {
     "data": {
      "text/html": [
       "<div>\n",
       "<style scoped>\n",
       "    .dataframe tbody tr th:only-of-type {\n",
       "        vertical-align: middle;\n",
       "    }\n",
       "\n",
       "    .dataframe tbody tr th {\n",
       "        vertical-align: top;\n",
       "    }\n",
       "\n",
       "    .dataframe thead th {\n",
       "        text-align: right;\n",
       "    }\n",
       "</style>\n",
       "<table border=\"1\" class=\"dataframe\">\n",
       "  <thead>\n",
       "    <tr style=\"text-align: right;\">\n",
       "      <th></th>\n",
       "      <th>item_category_name</th>\n",
       "      <th>item_category_id</th>\n",
       "    </tr>\n",
       "  </thead>\n",
       "  <tbody>\n",
       "    <tr>\n",
       "      <th>0</th>\n",
       "      <td>PC - Гарнитуры/Наушники</td>\n",
       "      <td>0</td>\n",
       "    </tr>\n",
       "    <tr>\n",
       "      <th>1</th>\n",
       "      <td>Аксессуары - PS2</td>\n",
       "      <td>1</td>\n",
       "    </tr>\n",
       "    <tr>\n",
       "      <th>2</th>\n",
       "      <td>Аксессуары - PS3</td>\n",
       "      <td>2</td>\n",
       "    </tr>\n",
       "    <tr>\n",
       "      <th>3</th>\n",
       "      <td>Аксессуары - PS4</td>\n",
       "      <td>3</td>\n",
       "    </tr>\n",
       "    <tr>\n",
       "      <th>4</th>\n",
       "      <td>Аксессуары - PSP</td>\n",
       "      <td>4</td>\n",
       "    </tr>\n",
       "  </tbody>\n",
       "</table>\n",
       "</div>"
      ],
      "text/plain": [
       "        item_category_name  item_category_id\n",
       "0  PC - Гарнитуры/Наушники                 0\n",
       "1         Аксессуары - PS2                 1\n",
       "2         Аксессуары - PS3                 2\n",
       "3         Аксессуары - PS4                 3\n",
       "4         Аксессуары - PSP                 4"
      ]
     },
     "execution_count": 28,
     "metadata": {},
     "output_type": "execute_result"
    }
   ],
   "source": [
    "categories = pd.read_csv('data/item_categories.csv')\n",
    "\n",
    "lines1 = [26,27,28,29,30,31]\n",
    "lines2 = [81,82]\n",
    "for index in lines1:\n",
    "    category_name = categories.loc[index,'item_category_name']\n",
    "#    print(category_name)\n",
    "    category_name = category_name.replace('Игры','Игры -')\n",
    "#    print(category_name)\n",
    "    categories.loc[index,'item_category_name'] = category_name\n",
    "for index in lines2:\n",
    "    category_name = categories.loc[index,'item_category_name']\n",
    "#    print(category_name)\n",
    "    category_name = category_name.replace('Чистые','Чистые -')\n",
    "#    print(category_name)\n",
    "    categories.loc[index,'item_category_name'] = category_name\n",
    "category_name = categories.loc[32,'item_category_name']\n",
    "#print(category_name)\n",
    "category_name = category_name.replace('Карты оплаты','Карты оплаты -')\n",
    "#print(category_name)\n",
    "categories.loc[32,'item_category_name'] = category_name\n",
    "categories.head()\n",
    "#将类别信息分解成type和子type"
   ]
  },
  {
   "cell_type": "code",
   "execution_count": 29,
   "id": "optional-cream",
   "metadata": {},
   "outputs": [
    {
     "data": {
      "text/html": [
       "<div>\n",
       "<style scoped>\n",
       "    .dataframe tbody tr th:only-of-type {\n",
       "        vertical-align: middle;\n",
       "    }\n",
       "\n",
       "    .dataframe tbody tr th {\n",
       "        vertical-align: top;\n",
       "    }\n",
       "\n",
       "    .dataframe thead th {\n",
       "        text-align: right;\n",
       "    }\n",
       "</style>\n",
       "<table border=\"1\" class=\"dataframe\">\n",
       "  <thead>\n",
       "    <tr style=\"text-align: right;\">\n",
       "      <th></th>\n",
       "      <th>item_category_id</th>\n",
       "      <th>type</th>\n",
       "      <th>subtype</th>\n",
       "    </tr>\n",
       "  </thead>\n",
       "  <tbody>\n",
       "    <tr>\n",
       "      <th>0</th>\n",
       "      <td>0</td>\n",
       "      <td>PC</td>\n",
       "      <td>Гарнитуры/Наушники</td>\n",
       "    </tr>\n",
       "    <tr>\n",
       "      <th>1</th>\n",
       "      <td>1</td>\n",
       "      <td>Аксессуары</td>\n",
       "      <td>PS2</td>\n",
       "    </tr>\n",
       "    <tr>\n",
       "      <th>2</th>\n",
       "      <td>2</td>\n",
       "      <td>Аксессуары</td>\n",
       "      <td>PS3</td>\n",
       "    </tr>\n",
       "    <tr>\n",
       "      <th>3</th>\n",
       "      <td>3</td>\n",
       "      <td>Аксессуары</td>\n",
       "      <td>PS4</td>\n",
       "    </tr>\n",
       "    <tr>\n",
       "      <th>4</th>\n",
       "      <td>4</td>\n",
       "      <td>Аксессуары</td>\n",
       "      <td>PSP</td>\n",
       "    </tr>\n",
       "  </tbody>\n",
       "</table>\n",
       "</div>"
      ],
      "text/plain": [
       "   item_category_id        type             subtype\n",
       "0                 0          PC  Гарнитуры/Наушники\n",
       "1                 1  Аксессуары                 PS2\n",
       "2                 2  Аксессуары                 PS3\n",
       "3                 3  Аксессуары                 PS4\n",
       "4                 4  Аксессуары                 PSP"
      ]
     },
     "execution_count": 29,
     "metadata": {},
     "output_type": "execute_result"
    }
   ],
   "source": [
    "categories['split'] = categories['item_category_name'].str.split('-')\n",
    "categories['type'] = categories['split'].map(lambda x:x[0].strip())\n",
    "categories['subtype'] = categories['split'].map(lambda x:x[1].strip() if len(x)>1 else x[0].strip())\n",
    "categories = categories[['item_category_id','type','subtype']]\n",
    "categories.head()\n"
   ]
  },
  {
   "cell_type": "code",
   "execution_count": 30,
   "id": "golden-equipment",
   "metadata": {},
   "outputs": [
    {
     "data": {
      "text/html": [
       "<div>\n",
       "<style scoped>\n",
       "    .dataframe tbody tr th:only-of-type {\n",
       "        vertical-align: middle;\n",
       "    }\n",
       "\n",
       "    .dataframe tbody tr th {\n",
       "        vertical-align: top;\n",
       "    }\n",
       "\n",
       "    .dataframe thead th {\n",
       "        text-align: right;\n",
       "    }\n",
       "</style>\n",
       "<table border=\"1\" class=\"dataframe\">\n",
       "  <thead>\n",
       "    <tr style=\"text-align: right;\">\n",
       "      <th></th>\n",
       "      <th>item_category_id</th>\n",
       "      <th>type</th>\n",
       "      <th>subtype</th>\n",
       "      <th>cat_type_code</th>\n",
       "      <th>cat_subtype_code</th>\n",
       "    </tr>\n",
       "  </thead>\n",
       "  <tbody>\n",
       "    <tr>\n",
       "      <th>0</th>\n",
       "      <td>0</td>\n",
       "      <td>PC</td>\n",
       "      <td>Гарнитуры/Наушники</td>\n",
       "      <td>0</td>\n",
       "      <td>33</td>\n",
       "    </tr>\n",
       "    <tr>\n",
       "      <th>1</th>\n",
       "      <td>1</td>\n",
       "      <td>Аксессуары</td>\n",
       "      <td>PS2</td>\n",
       "      <td>1</td>\n",
       "      <td>13</td>\n",
       "    </tr>\n",
       "    <tr>\n",
       "      <th>2</th>\n",
       "      <td>2</td>\n",
       "      <td>Аксессуары</td>\n",
       "      <td>PS3</td>\n",
       "      <td>1</td>\n",
       "      <td>14</td>\n",
       "    </tr>\n",
       "    <tr>\n",
       "      <th>3</th>\n",
       "      <td>3</td>\n",
       "      <td>Аксессуары</td>\n",
       "      <td>PS4</td>\n",
       "      <td>1</td>\n",
       "      <td>15</td>\n",
       "    </tr>\n",
       "    <tr>\n",
       "      <th>4</th>\n",
       "      <td>4</td>\n",
       "      <td>Аксессуары</td>\n",
       "      <td>PSP</td>\n",
       "      <td>1</td>\n",
       "      <td>17</td>\n",
       "    </tr>\n",
       "  </tbody>\n",
       "</table>\n",
       "</div>"
      ],
      "text/plain": [
       "   item_category_id        type             subtype  cat_type_code  \\\n",
       "0                 0          PC  Гарнитуры/Наушники              0   \n",
       "1                 1  Аксессуары                 PS2              1   \n",
       "2                 2  Аксессуары                 PS3              1   \n",
       "3                 3  Аксессуары                 PS4              1   \n",
       "4                 4  Аксессуары                 PSP              1   \n",
       "\n",
       "   cat_subtype_code  \n",
       "0                33  \n",
       "1                13  \n",
       "2                14  \n",
       "3                15  \n",
       "4                17  "
      ]
     },
     "execution_count": 30,
     "metadata": {},
     "output_type": "execute_result"
    }
   ],
   "source": [
    "from sklearn.preprocessing import LabelEncoder\n",
    "categories['cat_type_code'] = LabelEncoder().fit_transform(categories['type'])\n",
    "categories['cat_subtype_code'] = LabelEncoder().fit_transform(categories['subtype'])\n",
    "categories.head()\n",
    "#给category的subtype和subtype编码"
   ]
  },
  {
   "cell_type": "markdown",
   "id": "suburban-astronomy",
   "metadata": {},
   "source": [
    "# 3 特征融合"
   ]
  },
  {
   "cell_type": "markdown",
   "id": "coordinate-inclusion",
   "metadata": {},
   "source": [
    "# 3.1统计月销量"
   ]
  },
  {
   "cell_type": "markdown",
   "id": "unavailable-louisiana",
   "metadata": {},
   "source": [
    "首先将训练集中的数据统计好月销量"
   ]
  },
  {
   "cell_type": "code",
   "execution_count": 31,
   "id": "fifty-wheel",
   "metadata": {},
   "outputs": [
    {
     "name": "stdout",
     "output_type": "stream",
     "text": [
      "<bound method NDFrame.head of          date_block_num  shop_id  item_id  item_cnt_month\n",
      "0                     0        2       30             0.0\n",
      "1                     0        2       31             0.0\n",
      "2                     0        2       32             0.0\n",
      "3                     0        2       33             1.0\n",
      "4                     0        2       38             0.0\n",
      "...                 ...      ...      ...             ...\n",
      "6764431              33       59    22162             0.0\n",
      "6764432              33       59    22163             0.0\n",
      "6764433              33       59    22164             0.0\n",
      "6764434              33       59    22166             0.0\n",
      "6764435              33       59    22167             0.0\n",
      "\n",
      "[6764436 rows x 4 columns]>\n",
      "<bound method NDFrame.head of             ID  shop_id  item_id  date_block_num\n",
      "0            0        5     5037              34\n",
      "1            1        5     5320              34\n",
      "2            2        5     5233              34\n",
      "3            3        5     5232              34\n",
      "4            4        5     5268              34\n",
      "...        ...      ...      ...             ...\n",
      "214195  214195       45    18454              34\n",
      "214196  214196       45    16188              34\n",
      "214197  214197       45    15757              34\n",
      "214198  214198       45    19648              34\n",
      "214199  214199       45      969              34\n",
      "\n",
      "[214200 rows x 4 columns]>\n",
      "   date_block_num  shop_id  item_id  item_cnt_month\n",
      "0               0        2       30             0.0\n",
      "1               0        2       31             0.0\n",
      "2               0        2       32             0.0\n",
      "3               0        2       33             1.0\n",
      "4               0        2       38             0.0\n"
     ]
    }
   ],
   "source": [
    "import time\n",
    "from itertools import product\n",
    "\n",
    "ts = time.time()\n",
    "\n",
    "matrix = []\n",
    "cols = ['date_block_num','shop_id','item_id']\n",
    "for i in range(34):\n",
    "    sales = sales_train[sales_train.date_block_num==i]\n",
    "    matrix.append(np.array(list(product([i], sales.shop_id.unique(), sales.item_id.unique())), dtype='int16'))\n",
    "#product:将i,shopid,itemid的结合起来。n*m*h\n",
    "\n",
    "matrix = pd.DataFrame(np.vstack(matrix), columns=cols)\n",
    "matrix['date_block_num'] = matrix['date_block_num'].astype(np.int8)\n",
    "matrix['shop_id'] = matrix['shop_id'].astype(np.int8)\n",
    "matrix['item_id'] = matrix['item_id'].astype(np.int16)\n",
    "matrix.sort_values(cols,inplace=True)\n",
    "time.time() - ts\n",
    "\n",
    "sales_train['revenue'] = sales_train['item_price'] *  sales_train['item_cnt_day']\n",
    "\n",
    "groupby = sales_train.groupby(['item_id','shop_id','date_block_num']).agg({'item_cnt_day':'sum'})\n",
    "groupby.columns = ['item_cnt_month']\n",
    "groupby.reset_index(inplace=True)\n",
    "matrix = matrix.merge(groupby, on = ['item_id','shop_id','date_block_num'], how = 'left')\n",
    "matrix['item_cnt_month'] = matrix['item_cnt_month'].fillna(0).clip(0,20).astype(np.float16)\n",
    "#每个商店每件商品的日销量\n",
    "print(matrix.head)\n",
    "test['date_block_num'] = 34\n",
    "test['date_block_num'] = test['date_block_num'].astype(np.int8)\n",
    "test['shop_id'] = test['shop_id'].astype(np.int8)\n",
    "test['item_id'] = test['item_id'].astype(np.int16)\n",
    "test.shape\n",
    "print(test.head)\n",
    "cols = ['date_block_num','shop_id','item_id']\n",
    "matrix = pd.concat([matrix, test[['item_id','shop_id','date_block_num']]], ignore_index=True, sort=False, keys=cols)\n",
    "matrix.fillna(0, inplace=True) # 34 month\n",
    "print(matrix.head())\n"
   ]
  },
  {
   "cell_type": "code",
   "execution_count": 32,
   "id": "related-roller",
   "metadata": {},
   "outputs": [
    {
     "name": "stdout",
     "output_type": "stream",
     "text": [
      "0\n",
      "0\n"
     ]
    }
   ],
   "source": [
    "print(matrix['item_cnt_month'].isna().sum())\n",
    "print(matrix['item_cnt_month'].isnull().sum())\n",
    "#这里要确保矩阵里面没有 NA和NULL"
   ]
  },
  {
   "cell_type": "markdown",
   "id": "enormous-prototype",
   "metadata": {},
   "source": [
    "# 3.2 相关信息融合"
   ]
  },
  {
   "cell_type": "markdown",
   "id": "colored-ownership",
   "metadata": {},
   "source": [
    "将上面得到的商店，商品类别等信息与矩阵融合起来。"
   ]
  },
  {
   "cell_type": "code",
   "execution_count": 33,
   "id": "north-cinema",
   "metadata": {},
   "outputs": [
    {
     "data": {
      "text/plain": [
       "2.351710319519043"
      ]
     },
     "execution_count": 33,
     "metadata": {},
     "output_type": "execute_result"
    }
   ],
   "source": [
    "items=pd.read_csv('data/items.csv')\n",
    "ts = time.time()\n",
    "matrix = matrix.merge(items[['item_id','item_category_id']], on = ['item_id'], how = 'left')\n",
    "matrix = matrix.merge(categories[['item_category_id','cat_type_code','cat_subtype_code']], on = ['item_category_id'], how = 'left')\n",
    "matrix = matrix.merge(shops[['shop_id','shop_city_code','shop_type_code']], on = ['shop_id'], how = 'left')\n",
    "matrix['shop_city_code'] = matrix['shop_city_code'].astype(np.int8)\n",
    "matrix['shop_type_code'] = matrix['shop_type_code'].astype(np.int8)\n",
    "matrix['item_category_id'] = matrix['item_category_id'].astype(np.int8)\n",
    "matrix['cat_type_code'] = matrix['cat_type_code'].astype(np.int8)\n",
    "matrix['cat_subtype_code'] = matrix['cat_subtype_code'].astype(np.int8)\n",
    "time.time() - ts\n"
   ]
  },
  {
   "cell_type": "code",
   "execution_count": 34,
   "id": "spanish-distance",
   "metadata": {},
   "outputs": [
    {
     "name": "stdout",
     "output_type": "stream",
     "text": [
      "<class 'pandas.core.frame.DataFrame'>\n",
      "Int64Index: 6978636 entries, 0 to 6978635\n",
      "Data columns (total 9 columns):\n",
      " #   Column            Dtype  \n",
      "---  ------            -----  \n",
      " 0   date_block_num    int8   \n",
      " 1   shop_id           int8   \n",
      " 2   item_id           int16  \n",
      " 3   item_cnt_month    float16\n",
      " 4   item_category_id  int8   \n",
      " 5   cat_type_code     int8   \n",
      " 6   cat_subtype_code  int8   \n",
      " 7   shop_city_code    int8   \n",
      " 8   shop_type_code    int8   \n",
      "dtypes: float16(1), int16(1), int8(7)\n",
      "memory usage: 126.5 MB\n"
     ]
    }
   ],
   "source": [
    "matrix.head()\n",
    "matrix.info()"
   ]
  },
  {
   "cell_type": "markdown",
   "id": "skilled-valuable",
   "metadata": {},
   "source": [
    "# 3.2：历史信息"
   ]
  },
  {
   "cell_type": "markdown",
   "id": "published-cosmetic",
   "metadata": {},
   "source": [
    "将产生的信息做了融合。需要通过延迟操作来产生一些历史信息。比如可以将第0-33个月的销量作为第1-34个月的历史特征（延迟一个月）。按照以下说明，一共产生了15种特征。<br/>\n",
    "\n",
    "每个商品-商店组合每个月销量的历史信息，分别延迟[1,2,3,6,12]个月。这应该是最符合直觉的一种操作。<br/>\n",
    "所有商品-商店组合每个月销量均值的历史信息，分别延迟[1,2,3,6,12]个月。<br/>\n",
    "每件商品每个月销量均值的历史信息，分别延迟[1,2,3,6,12]个月。<br/>\n",
    "每个商店每个月销量均值的历史信息，分别延迟[1,2,3,6,12]个月。<br/>\n",
    "每个商品类别每个月销量均值的历史信息，分别延迟[1,2,3,6,12]个月。<br/>\n",
    "每个商品类别-商店每个月销量均值的历史信息，分别延迟[1,2,3,6,12]个月。<br/>\n",
    "以上六种延迟都比较直观，直接针对商品，商店，商品类别。但是销量的变化趋势还可能与商品类别_大类，商店_城市，商品价格，每个月的天数有关，还需要做以下统计和延迟。可以根据模型输出的feature importance来选择和调整这些特征。<br/>\n",
    "\n",
    "每个商品类别_大类每个月销量均值的历史信息，分别延迟[1,2,3,6,12]个月。<br/>\n",
    "每个商店_城市每个月销量均值的历史信息，分别延迟[1,2,3,6,12]个月。<br/>\n",
    "每个商品-商店_城市组合每个月销量均值的历史信息，分别延迟[1,2,3,6,12]个月。<br/>\n",
    "除了以上组合之外，还有以下特征可能有用<br/>\n",
    "\n",
    "每个商品第一次的销量<br/>\n",
    "每个商品最后一次的销量<br/>\n",
    "每个商品_商店组合第一次的销量<br/>\n",
    "每个商品_商店组合最后一次的销量<br/>\n",
    "每个商品的价格变化<br/>\n",
    "每个月的天数<br/>"
   ]
  },
  {
   "cell_type": "markdown",
   "id": "accessible-connectivity",
   "metadata": {},
   "source": [
    "# 3.2.1 lag operation产生延迟信息，可以选择延迟的月数。"
   ]
  },
  {
   "cell_type": "code",
   "execution_count": 35,
   "id": "printable-grammar",
   "metadata": {},
   "outputs": [],
   "source": [
    "def lag_feature(df, lags, col):\n",
    "    tmp = df[['date_block_num','shop_id','item_id',col]]\n",
    "    for i in lags:\n",
    "        shifted = tmp.copy()\n",
    "        shifted.columns = ['date_block_num','shop_id','item_id', col+'_lag_'+str(i)]\n",
    "        shifted['date_block_num'] += i\n",
    "        df = pd.merge(df, shifted, on=['date_block_num','shop_id','item_id'], how='left')\n",
    "        #how=\"left\",表示左边的键取全部，右边的取部分没有值则用NaN代替\n",
    "    return df\n"
   ]
  },
  {
   "cell_type": "markdown",
   "id": "postal-lambda",
   "metadata": {},
   "source": [
    "# 3.2.2 月销量（每个商品-商店）的历史信息"
   ]
  },
  {
   "cell_type": "markdown",
   "id": "ruled-screening",
   "metadata": {},
   "source": [
    "针对每个月的商品-商店组合的销量求一个历史信息，分别是1个月、2个月、3个月、6个月、12个月前的销量。这个值和我们要预测的值是同一个数量级，不需要求平均。而且会有很多值会是NAN，因为不存在这样的历史信息，具体原因前面已经分析过。"
   ]
  },
  {
   "cell_type": "code",
   "execution_count": 36,
   "id": "existing-globe",
   "metadata": {},
   "outputs": [
    {
     "data": {
      "text/plain": [
       "11.080398321151733"
      ]
     },
     "execution_count": 36,
     "metadata": {},
     "output_type": "execute_result"
    }
   ],
   "source": [
    "ts = time.time()\n",
    "matrix = lag_feature(matrix, [1,2,3,6,12], 'item_cnt_month')\n",
    "time.time() - ts"
   ]
  },
  {
   "cell_type": "markdown",
   "id": "formed-dragon",
   "metadata": {},
   "source": [
    "# 3.2.3 月销量（所有商品-商店）均值的历史信息"
   ]
  },
  {
   "cell_type": "markdown",
   "id": "fresh-failure",
   "metadata": {},
   "source": [
    "统计每个月的销量，这里的销量是包括了该月的所有商品-商店组合，所以需要求平均。同求历史信息。"
   ]
  },
  {
   "cell_type": "code",
   "execution_count": 37,
   "id": "forced-recovery",
   "metadata": {},
   "outputs": [
    {
     "name": "stdout",
     "output_type": "stream",
     "text": [
      "<bound method NDFrame.head of          date_block_num  shop_id  item_id  item_cnt_month  item_category_id  \\\n",
      "0                     0        2       30             0.0                40   \n",
      "1                     0        2       31             0.0                37   \n",
      "2                     0        2       32             0.0                40   \n",
      "3                     0        2       33             1.0                37   \n",
      "4                     0        2       38             0.0                41   \n",
      "...                 ...      ...      ...             ...               ...   \n",
      "6978631              34       45    18454             0.0                55   \n",
      "6978632              34       45    16188             0.0                64   \n",
      "6978633              34       45    15757             0.0                55   \n",
      "6978634              34       45    19648             0.0                40   \n",
      "6978635              34       45      969             0.0                37   \n",
      "\n",
      "         cat_type_code  cat_subtype_code  shop_city_code  shop_type_code  \\\n",
      "0                    7                 6               0               5   \n",
      "1                    7                 3               0               5   \n",
      "2                    7                 6               0               5   \n",
      "3                    7                 3               0               5   \n",
      "4                    7                37               0               5   \n",
      "...                ...               ...             ...             ...   \n",
      "6978631              9                 4              19               5   \n",
      "6978632             10                43              19               5   \n",
      "6978633              9                 4              19               5   \n",
      "6978634              7                 6              19               5   \n",
      "6978635              7                 3              19               5   \n",
      "\n",
      "         item_cnt_month_lag_1  item_cnt_month_lag_2  item_cnt_month_lag_3  \\\n",
      "0                         NaN                   NaN                   NaN   \n",
      "1                         NaN                   NaN                   NaN   \n",
      "2                         NaN                   NaN                   NaN   \n",
      "3                         NaN                   NaN                   NaN   \n",
      "4                         NaN                   NaN                   NaN   \n",
      "...                       ...                   ...                   ...   \n",
      "6978631                   1.0                   0.0                   0.0   \n",
      "6978632                   0.0                   0.0                   0.0   \n",
      "6978633                   0.0                   0.0                   0.0   \n",
      "6978634                   0.0                   0.0                   0.0   \n",
      "6978635                   0.0                   0.0                   0.0   \n",
      "\n",
      "         item_cnt_month_lag_6  item_cnt_month_lag_12  date_avg_item_cnt_lag_1  \\\n",
      "0                         NaN                    NaN                      NaN   \n",
      "1                         NaN                    NaN                      NaN   \n",
      "2                         NaN                    NaN                      NaN   \n",
      "3                         NaN                    NaN                      NaN   \n",
      "4                         NaN                    NaN                      NaN   \n",
      "...                       ...                    ...                      ...   \n",
      "6978631                   0.0                    0.0                 0.275146   \n",
      "6978632                   0.0                    0.0                 0.275146   \n",
      "6978633                   0.0                    0.0                 0.275146   \n",
      "6978634                   0.0                    0.0                 0.275146   \n",
      "6978635                   0.0                    0.0                 0.275146   \n",
      "\n",
      "         date_avg_item_cnt_lag_2  date_avg_item_cnt_lag_3  \\\n",
      "0                            NaN                      NaN   \n",
      "1                            NaN                      NaN   \n",
      "2                            NaN                      NaN   \n",
      "3                            NaN                      NaN   \n",
      "4                            NaN                      NaN   \n",
      "...                          ...                      ...   \n",
      "6978631                 0.265381                 0.280029   \n",
      "6978632                 0.265381                 0.280029   \n",
      "6978633                 0.265381                 0.280029   \n",
      "6978634                 0.265381                 0.280029   \n",
      "6978635                 0.265381                 0.280029   \n",
      "\n",
      "         date_avg_item_cnt_lag_6  date_avg_item_cnt_lag_12  \n",
      "0                            NaN                       NaN  \n",
      "1                            NaN                       NaN  \n",
      "2                            NaN                       NaN  \n",
      "3                            NaN                       NaN  \n",
      "4                            NaN                       NaN  \n",
      "...                          ...                       ...  \n",
      "6978631                 0.229614                  0.274658  \n",
      "6978632                 0.229614                  0.274658  \n",
      "6978633                 0.229614                  0.274658  \n",
      "6978634                 0.229614                  0.274658  \n",
      "6978635                 0.229614                  0.274658  \n",
      "\n",
      "[6978636 rows x 19 columns]>\n"
     ]
    }
   ],
   "source": [
    "ts = time.time()\n",
    "group = matrix.groupby(['date_block_num']).agg({'item_cnt_month': ['mean']})\n",
    "group.columns = [ 'date_avg_item_cnt' ]\n",
    "group.reset_index(inplace=True)\n",
    "\n",
    "matrix = pd.merge(matrix, group, on=['date_block_num'], how='left')\n",
    "matrix['date_avg_item_cnt'] = matrix['date_avg_item_cnt'].astype(np.float16)\n",
    "matrix = lag_feature(matrix, [1,2,3,6,12], 'date_avg_item_cnt')\n",
    "matrix.drop(['date_avg_item_cnt'], axis=1, inplace=True)\n",
    "time.time() - ts\n",
    "print(matrix.head)"
   ]
  },
  {
   "cell_type": "markdown",
   "id": "eight-checkout",
   "metadata": {},
   "source": [
    "# 3.2.4 月销量（每件商品）均值和历史特征"
   ]
  },
  {
   "cell_type": "markdown",
   "id": "dietary-monte",
   "metadata": {},
   "source": [
    "统计每件商品在每个月的销量，这里的销量是包括了该月该商品在所有商店的销量，所以需要求平均。同求历史信息。"
   ]
  },
  {
   "cell_type": "code",
   "execution_count": 38,
   "id": "derived-skiing",
   "metadata": {},
   "outputs": [
    {
     "data": {
      "text/plain": [
       "16.299413919448853"
      ]
     },
     "execution_count": 38,
     "metadata": {},
     "output_type": "execute_result"
    }
   ],
   "source": [
    "ts = time.time()\n",
    "group = matrix.groupby(['date_block_num', 'item_id']).agg({'item_cnt_month': ['mean']})\n",
    "group.columns = [ 'date_item_avg_item_cnt' ]\n",
    "group.reset_index(inplace=True)\n",
    "\n",
    "matrix = pd.merge(matrix, group, on=['date_block_num','item_id'], how='left')\n",
    "matrix['date_item_avg_item_cnt'] = matrix['date_item_avg_item_cnt'].astype(np.float16)\n",
    "matrix = lag_feature(matrix, [1,2,3,6,12], 'date_item_avg_item_cnt')\n",
    "matrix.drop(['date_item_avg_item_cnt'], axis=1, inplace=True)\n",
    "time.time() - ts"
   ]
  },
  {
   "cell_type": "markdown",
   "id": "fossil-france",
   "metadata": {},
   "source": [
    "# 3.2.5 月销量（每个商店）均值和历史特征"
   ]
  },
  {
   "cell_type": "markdown",
   "id": "floppy-carrier",
   "metadata": {},
   "source": [
    "统计每个商店在每个月的销量，这里的销量是包括了该月该商店的所有商品的销量，所以需要求平均。同求历史信息。"
   ]
  },
  {
   "cell_type": "code",
   "execution_count": 39,
   "id": "outer-crazy",
   "metadata": {},
   "outputs": [
    {
     "data": {
      "text/plain": [
       "17.299739360809326"
      ]
     },
     "execution_count": 39,
     "metadata": {},
     "output_type": "execute_result"
    }
   ],
   "source": [
    "ts = time.time()\n",
    "group = matrix.groupby(['date_block_num', 'shop_id']).agg({'item_cnt_month': ['mean']})\n",
    "group.columns = [ 'date_shop_avg_item_cnt' ]\n",
    "group.reset_index(inplace=True)\n",
    "\n",
    "matrix = pd.merge(matrix, group, on=['date_block_num','shop_id'], how='left')\n",
    "matrix['date_shop_avg_item_cnt'] = matrix['date_shop_avg_item_cnt'].astype(np.float16)\n",
    "matrix = lag_feature(matrix, [1,2,3,6,12], 'date_shop_avg_item_cnt')\n",
    "matrix.drop(['date_shop_avg_item_cnt'], axis=1, inplace=True)\n",
    "time.time() - ts"
   ]
  },
  {
   "cell_type": "markdown",
   "id": "retained-castle",
   "metadata": {},
   "source": [
    "# 3.2.6 月销量（每个商品类别）均值和历史特征"
   ]
  },
  {
   "cell_type": "markdown",
   "id": "stuck-albert",
   "metadata": {},
   "source": [
    "统计每个商品类别在每个月的销量，这里的销量是包括了该月该商品类别的所有销量，所以需要求平均。同求历史信息。"
   ]
  },
  {
   "cell_type": "code",
   "execution_count": 40,
   "id": "dimensional-inspector",
   "metadata": {},
   "outputs": [
    {
     "data": {
      "text/plain": [
       "18.83319664001465"
      ]
     },
     "execution_count": 40,
     "metadata": {},
     "output_type": "execute_result"
    }
   ],
   "source": [
    "ts = time.time()\n",
    "group = matrix.groupby(['date_block_num', 'item_category_id']).agg({'item_cnt_month': ['mean']})\n",
    "group.columns = [ 'date_cat_avg_item_cnt' ]\n",
    "group.reset_index(inplace=True)\n",
    "\n",
    "matrix = pd.merge(matrix, group, on=['date_block_num','item_category_id'], how='left')\n",
    "matrix['date_cat_avg_item_cnt'] = matrix['date_cat_avg_item_cnt'].astype(np.float16)\n",
    "matrix = lag_feature(matrix, [1,2,3,6,12], 'date_cat_avg_item_cnt')\n",
    "matrix.drop(['date_cat_avg_item_cnt'], axis=1, inplace=True)\n",
    "time.time() - ts\n"
   ]
  },
  {
   "cell_type": "markdown",
   "id": "passive-memorial",
   "metadata": {},
   "source": [
    "# 3.2.7 月销量（商品类别-商店）均值和历史特征"
   ]
  },
  {
   "cell_type": "markdown",
   "id": "flying-carry",
   "metadata": {},
   "source": [
    "统计每个商品类别-商店在每个月的销量，这里的销量是包括了该月该商品商店_城市的所有销量，所以需要求平均。同求历史信息"
   ]
  },
  {
   "cell_type": "code",
   "execution_count": 41,
   "id": "postal-finance",
   "metadata": {},
   "outputs": [
    {
     "data": {
      "text/plain": [
       "20.339611768722534"
      ]
     },
     "execution_count": 41,
     "metadata": {},
     "output_type": "execute_result"
    }
   ],
   "source": [
    "ts = time.time()\n",
    "group = matrix.groupby(['date_block_num', 'item_category_id','shop_id']).agg({'item_cnt_month': ['mean']})\n",
    "group.columns = [ 'date_cat_shop_avg_item_cnt' ]\n",
    "group.reset_index(inplace=True)\n",
    "\n",
    "matrix = pd.merge(matrix, group, on=['date_block_num', 'item_category_id','shop_id'], how='left')\n",
    "matrix['date_cat_shop_avg_item_cnt'] = matrix['date_cat_shop_avg_item_cnt'].astype(np.float16)\n",
    "matrix = lag_feature(matrix, [1,2,3,6,12], 'date_cat_shop_avg_item_cnt')\n",
    "matrix.drop(['date_cat_shop_avg_item_cnt'], axis=1, inplace=True)\n",
    "time.time() - ts\n"
   ]
  },
  {
   "cell_type": "markdown",
   "id": "stone-expression",
   "metadata": {},
   "source": [
    "# 3.2.8 月销量（商品类别_大类）均值和历史特征"
   ]
  },
  {
   "cell_type": "markdown",
   "id": "ethical-fraud",
   "metadata": {},
   "source": [
    "统计每个商品类别_大类在每个月的销量，这里的销量是包括了该月该商品类别_大类的所有销量，所以需要求平均。同求历史信息。"
   ]
  },
  {
   "cell_type": "code",
   "execution_count": 42,
   "id": "organic-alaska",
   "metadata": {},
   "outputs": [
    {
     "data": {
      "text/plain": [
       "21.57829976081848"
      ]
     },
     "execution_count": 42,
     "metadata": {},
     "output_type": "execute_result"
    }
   ],
   "source": [
    "ts = time.time()\n",
    "group = matrix.groupby(['date_block_num', 'cat_type_code']).agg({'item_cnt_month': ['mean']})\n",
    "group.columns = [ 'date_type_avg_item_cnt' ]\n",
    "group.reset_index(inplace=True)\n",
    "\n",
    "matrix = pd.merge(matrix, group, on=['date_block_num','cat_type_code'], how='left')\n",
    "matrix['date_type_avg_item_cnt'] = matrix['date_type_avg_item_cnt'].astype(np.float16)\n",
    "matrix = lag_feature(matrix, [1,2,3,6,12], 'date_type_avg_item_cnt')\n",
    "matrix.drop(['date_type_avg_item_cnt'], axis=1, inplace=True)\n",
    "time.time() - ts\n"
   ]
  },
  {
   "cell_type": "markdown",
   "id": "honey-gregory",
   "metadata": {},
   "source": [
    "# 3.2.9 月销量（商品-商品类别_大类）均值和历史特征"
   ]
  },
  {
   "cell_type": "code",
   "execution_count": 43,
   "id": "moderate-poland",
   "metadata": {},
   "outputs": [
    {
     "data": {
      "text/plain": [
       "23.41341805458069"
      ]
     },
     "execution_count": 43,
     "metadata": {},
     "output_type": "execute_result"
    }
   ],
   "source": [
    "ts = time.time()\n",
    "group = matrix.groupby(['date_block_num', 'item_id','cat_type_code']).agg({'item_cnt_month': ['mean']})\n",
    "group.columns = [ 'date_item_type_avg_item_cnt' ]\n",
    "group.reset_index(inplace=True)\n",
    "\n",
    "matrix = pd.merge(matrix, group, on=['date_block_num','item_id','cat_type_code'], how='left')\n",
    "matrix['date_item_type_avg_item_cnt'] = matrix['date_item_type_avg_item_cnt'].astype(np.float16)\n",
    "matrix = lag_feature(matrix, [1,2,3,6,12], 'date_item_type_avg_item_cnt')\n",
    "matrix.drop(['date_item_type_avg_item_cnt'], axis=1, inplace=True)\n",
    "time.time() - ts"
   ]
  },
  {
   "cell_type": "markdown",
   "id": "reserved-replication",
   "metadata": {},
   "source": [
    "# 3.2.10 月销量（商店_城市）均值和历史特征"
   ]
  },
  {
   "cell_type": "markdown",
   "id": "native-duncan",
   "metadata": {},
   "source": [
    "统计每个商店_城市在每个月的销量，这里的销量是包括了该月该商店_城市的所有销量，所以需要求平均。同求历史信息。"
   ]
  },
  {
   "cell_type": "code",
   "execution_count": 44,
   "id": "reasonable-tuning",
   "metadata": {},
   "outputs": [
    {
     "data": {
      "text/plain": [
       "24.0836181640625"
      ]
     },
     "execution_count": 44,
     "metadata": {},
     "output_type": "execute_result"
    }
   ],
   "source": [
    "ts = time.time()\n",
    "group = matrix.groupby(['date_block_num', 'shop_city_code']).agg({'item_cnt_month': ['mean']})\n",
    "group.columns = ['date_city_avg_item_cnt']\n",
    "group.reset_index(inplace=True)\n",
    "\n",
    "matrix = pd.merge(matrix, group, on=['date_block_num',  'shop_city_code'], how='left')\n",
    "matrix['date_city_avg_item_cnt'] = matrix['date_city_avg_item_cnt'].astype(np.float16)\n",
    "matrix = lag_feature(matrix, [1,2,3,6,12], 'date_city_avg_item_cnt')\n",
    "matrix.drop(['date_city_avg_item_cnt'], axis=1, inplace=True)\n",
    "time.time() - ts\n"
   ]
  },
  {
   "cell_type": "markdown",
   "id": "gorgeous-brunswick",
   "metadata": {},
   "source": [
    "# 3.2.11 月销量（商品-商店_城市）均值和历史特征"
   ]
  },
  {
   "cell_type": "markdown",
   "id": "failing-inventory",
   "metadata": {},
   "source": [
    "统计每个商品-商店_城市在每个月的销量，这里的销量是包括了该月该商品-商店_城市的所有销量，所以需要求平均。同求历史信息。"
   ]
  },
  {
   "cell_type": "code",
   "execution_count": 45,
   "id": "compact-distributor",
   "metadata": {},
   "outputs": [
    {
     "data": {
      "text/plain": [
       "27.76079797744751"
      ]
     },
     "execution_count": 45,
     "metadata": {},
     "output_type": "execute_result"
    }
   ],
   "source": [
    "ts = time.time()\n",
    "group = matrix.groupby(['date_block_num','item_id', 'shop_city_code']).agg({'item_cnt_month': ['mean']})\n",
    "group.columns = ['date_item_city_avg_item_cnt']\n",
    "group.reset_index(inplace=True)\n",
    "\n",
    "matrix = pd.merge(matrix, group, on=['date_block_num', 'item_id', 'shop_city_code'], how='left')\n",
    "matrix['date_item_city_avg_item_cnt'] = matrix['date_item_city_avg_item_cnt'].astype(np.float16)\n",
    "matrix = lag_feature(matrix, [1,2,3,6,12], 'date_item_city_avg_item_cnt')\n",
    "matrix.drop(['date_item_city_avg_item_cnt'], axis=1, inplace=True)\n",
    "time.time() - ts\n"
   ]
  },
  {
   "cell_type": "markdown",
   "id": "worth-secretary",
   "metadata": {},
   "source": [
    "# 3.2.12 趋势特征，半年来价格的变化"
   ]
  },
  {
   "cell_type": "code",
   "execution_count": 46,
   "id": "arranged-understanding",
   "metadata": {},
   "outputs": [
    {
     "data": {
      "text/plain": [
       "100.86329388618469"
      ]
     },
     "execution_count": 46,
     "metadata": {},
     "output_type": "execute_result"
    }
   ],
   "source": [
    "ts = time.time()\n",
    "group = sales_train.groupby(['item_id']).agg({'item_price': ['mean']})\n",
    "group.columns = ['item_avg_item_price']\n",
    "group.reset_index(inplace=True)\n",
    "\n",
    "matrix = pd.merge(matrix, group, on=['item_id'], how='left')\n",
    "matrix['item_avg_item_price'] = matrix['item_avg_item_price'].astype(np.float16)\n",
    "\n",
    "group = sales_train.groupby(['date_block_num','item_id']).agg({'item_price': ['mean']})\n",
    "group.columns = ['date_item_avg_item_price']\n",
    "group.reset_index(inplace=True)\n",
    "\n",
    "matrix = pd.merge(matrix, group, on=['date_block_num','item_id'], how='left')\n",
    "matrix['date_item_avg_item_price'] = matrix['date_item_avg_item_price'].astype(np.float16)\n",
    "\n",
    "lags = [1,2,3,4,5,6,12]\n",
    "matrix = lag_feature(matrix, lags, 'date_item_avg_item_price')\n",
    "\n",
    "for i in lags:\n",
    "    matrix['delta_price_lag_'+str(i)] = \\\n",
    "        (matrix['date_item_avg_item_price_lag_'+str(i)] - matrix['item_avg_item_price']) / matrix['item_avg_item_price']\n",
    "\n",
    "def select_trend(row):\n",
    "    for i in lags:\n",
    "        if row['delta_price_lag_'+str(i)]:\n",
    "            return row['delta_price_lag_'+str(i)]\n",
    "    return 0\n",
    "    \n",
    "matrix['delta_price_lag'] = matrix.apply(select_trend, axis=1)\n",
    "matrix['delta_price_lag'] = matrix['delta_price_lag'].astype(np.float16)\n",
    "matrix['delta_price_lag'].fillna(0, inplace=True)\n",
    "\n",
    "# https://stackoverflow.com/questions/31828240/first-non-null-value-per-row-from-a-list-of-pandas-columns/31828559\n",
    "# matrix['price_trend'] = matrix[['delta_price_lag_1','delta_price_lag_2','delta_price_lag_3']].bfill(axis=1).iloc[:, 0]\n",
    "# Invalid dtype for backfill_2d [float16]\n",
    "\n",
    "fetures_to_drop = ['item_avg_item_price', 'date_item_avg_item_price']\n",
    "for i in lags:\n",
    "    fetures_to_drop += ['date_item_avg_item_price_lag_'+str(i)]\n",
    "    fetures_to_drop += ['delta_price_lag_'+str(i)]\n",
    "\n",
    "matrix.drop(fetures_to_drop, axis=1, inplace=True)\n",
    "\n",
    "time.time() - ts"
   ]
  },
  {
   "cell_type": "markdown",
   "id": "quarterly-borough",
   "metadata": {},
   "source": [
    "# 3.2.13 每个月天数"
   ]
  },
  {
   "cell_type": "code",
   "execution_count": 47,
   "id": "convenient-electronics",
   "metadata": {},
   "outputs": [],
   "source": [
    "matrix['month'] = matrix['date_block_num'] % 12\n",
    "days = pd.Series([31,28,31,30,31,30,31,31,30,31,30,31])\n",
    "matrix['days'] = matrix['month'].map(days).astype(np.int8)"
   ]
  },
  {
   "cell_type": "markdown",
   "id": "suited-restoration",
   "metadata": {},
   "source": [
    "# 3.2.14 开始和结束的销量"
   ]
  },
  {
   "cell_type": "markdown",
   "id": "expressed-sydney",
   "metadata": {},
   "source": [
    "Months since the last sale for each shop/item pair and for item only. I use programing approach.\n",
    "\n",
    "Create HashTable with key equals to {shop_id,item_id} and value equals to date_block_num. Iterate data from the top. Foreach row if {row.shop_id,row.item_id} is not present in the table, then add it to the table and set its value to row.date_block_num. if HashTable contains key, then calculate the difference beteween cached value and row.date_block_num."
   ]
  },
  {
   "cell_type": "code",
   "execution_count": 48,
   "id": "european-adoption",
   "metadata": {},
   "outputs": [
    {
     "data": {
      "text/plain": [
       "473.7359538078308"
      ]
     },
     "execution_count": 48,
     "metadata": {},
     "output_type": "execute_result"
    }
   ],
   "source": [
    "ts = time.time()\n",
    "cache = {}\n",
    "matrix['item_shop_last_sale'] = -1\n",
    "matrix['item_shop_last_sale'] = matrix['item_shop_last_sale'].astype(np.int8)\n",
    "for idx, row in matrix.iterrows():    \n",
    "    key = str(row.item_id)+' '+str(row.shop_id)\n",
    "    if key not in cache:\n",
    "        if row.item_cnt_month!=0:\n",
    "            cache[key] = row.date_block_num\n",
    "    else:\n",
    "        last_date_block_num = cache[key]\n",
    "        matrix.at[idx, 'item_shop_last_sale'] = row.date_block_num - last_date_block_num\n",
    "        cache[key] = row.date_block_num         \n",
    "time.time() - ts"
   ]
  },
  {
   "cell_type": "code",
   "execution_count": 49,
   "id": "collected-tsunami",
   "metadata": {},
   "outputs": [
    {
     "data": {
      "text/plain": [
       "1.2556426525115967"
      ]
     },
     "execution_count": 49,
     "metadata": {},
     "output_type": "execute_result"
    }
   ],
   "source": [
    "ts = time.time()\n",
    "matrix = matrix[matrix.date_block_num > 11]\n",
    "time.time() - ts\n"
   ]
  },
  {
   "cell_type": "code",
   "execution_count": 50,
   "id": "fourth-tucson",
   "metadata": {},
   "outputs": [
    {
     "data": {
      "text/plain": [
       "0.6582391262054443"
      ]
     },
     "execution_count": 50,
     "metadata": {},
     "output_type": "execute_result"
    }
   ],
   "source": [
    "ts = time.time()\n",
    "def fill_na(df):\n",
    "    for col in df.columns:\n",
    "        if ('_lag_' in col) & (df[col].isnull().any()):\n",
    "            if ('item_cnt' in col):\n",
    "                df[col].fillna(0, inplace=True)         \n",
    "    return df\n",
    "\n",
    "matrix = fill_na(matrix)\n",
    "time.time() - ts\n"
   ]
  },
  {
   "cell_type": "code",
   "execution_count": 51,
   "id": "seeing-audience",
   "metadata": {},
   "outputs": [],
   "source": [
    "#print([column for column in matrix])\n",
    "matrix.to_pickle(\"data.pkl\")"
   ]
  },
  {
   "cell_type": "markdown",
   "id": "specified-advocate",
   "metadata": {},
   "source": [
    "# 数据建模"
   ]
  },
  {
   "cell_type": "code",
   "execution_count": 52,
   "id": "documented-reservation",
   "metadata": {},
   "outputs": [],
   "source": [
    "import numpy as np\n",
    "import pandas as pd\n",
    "import matplotlib.pyplot as plt\n",
    "import seaborn as sns\n",
    "import time\n",
    "import gc\n",
    "import pickle\n",
    "from itertools import product\n",
    "from sklearn.preprocessing import LabelEncoder\n",
    "\n",
    "pd.set_option('display.max_rows', 500)\n",
    "pd.set_option('display.max_columns', 100)\n",
    "\n",
    "#import sklearn.model_selection.KFold as KFold\n"
   ]
  },
  {
   "cell_type": "code",
   "execution_count": 53,
   "id": "solar-industry",
   "metadata": {},
   "outputs": [],
   "source": [
    "def plot_features(booster, figsize):    \n",
    "    fig, ax = plt.subplots(1,1,figsize=figsize)\n",
    "    return plot_importance(booster=booster, ax=ax)\n"
   ]
  },
  {
   "cell_type": "code",
   "execution_count": 54,
   "id": "latin-logic",
   "metadata": {},
   "outputs": [],
   "source": [
    "data = pd.read_pickle('data.pkl')\n"
   ]
  },
  {
   "cell_type": "code",
   "execution_count": 55,
   "id": "published-diary",
   "metadata": {},
   "outputs": [],
   "source": [
    "X_train = data[data.date_block_num < 33].drop(['item_cnt_month'], axis=1)\n",
    "Y_train = data[data.date_block_num < 33]['item_cnt_month']\n",
    "X_valid = data[data.date_block_num == 33].drop(['item_cnt_month'], axis=1)\n",
    "Y_valid = data[data.date_block_num == 33]['item_cnt_month']\n",
    "X_test = data[data.date_block_num == 34].drop(['item_cnt_month'], axis=1)"
   ]
  },
  {
   "cell_type": "code",
   "execution_count": 56,
   "id": "significant-channel",
   "metadata": {},
   "outputs": [],
   "source": [
    "del data\n",
    "gc.collect();"
   ]
  },
  {
   "cell_type": "code",
   "execution_count": 57,
   "id": "entitled-manhattan",
   "metadata": {},
   "outputs": [
    {
     "name": "stderr",
     "output_type": "stream",
     "text": [
      "E:\\Anaconda\\lib\\site-packages\\lightgbm\\engine.py:148: UserWarning: Found `n_estimators` in params. Will use it instead of argument\n",
      "  _log_warning(\"Found `{}` in params. Will use it instead of argument\".format(alias))\n",
      "E:\\Anaconda\\lib\\site-packages\\lightgbm\\engine.py:153: UserWarning: Found `early_stopping_rounds` in params. Will use it instead of argument\n",
      "  _log_warning(\"Found `{}` in params. Will use it instead of argument\".format(alias))\n"
     ]
    },
    {
     "name": "stdout",
     "output_type": "stream",
     "text": [
      "[LightGBM] [Warning] Auto-choosing row-wise multi-threading, the overhead of testing was 0.174372 seconds.\n",
      "You can set `force_row_wise=true` to remove the overhead.\n",
      "And if memory is not enough, you can set `force_col_wise=true`.\n",
      "[LightGBM] [Info] Total Bins 10294\n",
      "[LightGBM] [Info] Number of data points in the train set: 4178034, number of used features: 62\n",
      "[LightGBM] [Info] Start training from score 0.236872\n",
      "Training until validation scores don't improve for 50 rounds\n",
      "[1000]\ttraining's rmse: 0.674255\tvalid_1's rmse: 0.880902\n",
      "Early stopping, best iteration is:\n",
      "[1230]\ttraining's rmse: 0.664209\tvalid_1's rmse: 0.880256\n"
     ]
    }
   ],
   "source": [
    "import lightgbm as lgb\n",
    "\n",
    "ts = time.time()\n",
    "train_data = lgb.Dataset(data=X_train, label=Y_train)\n",
    "valid_data = lgb.Dataset(data=X_valid, label=Y_valid)\n",
    "\n",
    "time.time() - ts\n",
    "    \n",
    "params = {\"objective\" : \"regression\", \"metric\" : \"rmse\", 'n_estimators':10000, 'early_stopping_rounds':50,\n",
    "              \"num_leaves\" : 200, \"learning_rate\" : 0.01, \"bagging_fraction\" : 0.9,\n",
    "              \"feature_fraction\" : 0.3, \"bagging_seed\" : 0}\n",
    "    \n",
    "lgb_model = lgb.train(params, train_data, valid_sets=[train_data, valid_data], verbose_eval=1000) \n",
    "Y_test = lgb_model.predict(X_test).clip(0, 20)"
   ]
  },
  {
   "cell_type": "code",
   "execution_count": 58,
   "id": "maritime-absorption",
   "metadata": {},
   "outputs": [
    {
     "name": "stdout",
     "output_type": "stream",
     "text": [
      "['date_block_num', 'shop_id', 'item_id', 'item_category_id', 'cat_type_code', 'cat_subtype_code', 'shop_city_code', 'shop_type_code', 'item_cnt_month_lag_1', 'item_cnt_month_lag_2', 'item_cnt_month_lag_3', 'item_cnt_month_lag_6', 'item_cnt_month_lag_12', 'date_avg_item_cnt_lag_1', 'date_avg_item_cnt_lag_2', 'date_avg_item_cnt_lag_3', 'date_avg_item_cnt_lag_6', 'date_avg_item_cnt_lag_12', 'date_item_avg_item_cnt_lag_1', 'date_item_avg_item_cnt_lag_2', 'date_item_avg_item_cnt_lag_3', 'date_item_avg_item_cnt_lag_6', 'date_item_avg_item_cnt_lag_12', 'date_shop_avg_item_cnt_lag_1', 'date_shop_avg_item_cnt_lag_2', 'date_shop_avg_item_cnt_lag_3', 'date_shop_avg_item_cnt_lag_6', 'date_shop_avg_item_cnt_lag_12', 'date_cat_avg_item_cnt_lag_1', 'date_cat_avg_item_cnt_lag_2', 'date_cat_avg_item_cnt_lag_3', 'date_cat_avg_item_cnt_lag_6', 'date_cat_avg_item_cnt_lag_12', 'date_cat_shop_avg_item_cnt_lag_1', 'date_cat_shop_avg_item_cnt_lag_2', 'date_cat_shop_avg_item_cnt_lag_3', 'date_cat_shop_avg_item_cnt_lag_6', 'date_cat_shop_avg_item_cnt_lag_12', 'date_type_avg_item_cnt_lag_1', 'date_type_avg_item_cnt_lag_2', 'date_type_avg_item_cnt_lag_3', 'date_type_avg_item_cnt_lag_6', 'date_type_avg_item_cnt_lag_12', 'date_item_type_avg_item_cnt_lag_1', 'date_item_type_avg_item_cnt_lag_2', 'date_item_type_avg_item_cnt_lag_3', 'date_item_type_avg_item_cnt_lag_6', 'date_item_type_avg_item_cnt_lag_12', 'date_city_avg_item_cnt_lag_1', 'date_city_avg_item_cnt_lag_2', 'date_city_avg_item_cnt_lag_3', 'date_city_avg_item_cnt_lag_6', 'date_city_avg_item_cnt_lag_12', 'date_item_city_avg_item_cnt_lag_1', 'date_item_city_avg_item_cnt_lag_2', 'date_item_city_avg_item_cnt_lag_3', 'date_item_city_avg_item_cnt_lag_6', 'date_item_city_avg_item_cnt_lag_12', 'delta_price_lag', 'month', 'days', 'item_shop_last_sale']\n"
     ]
    }
   ],
   "source": [
    "print([column for column in X_train])"
   ]
  }
 ],
 "metadata": {
  "kernelspec": {
   "display_name": "Python [conda env:root] *",
   "language": "python",
   "name": "conda-root-py"
  },
  "language_info": {
   "codemirror_mode": {
    "name": "ipython",
    "version": 3
   },
   "file_extension": ".py",
   "mimetype": "text/x-python",
   "name": "python",
   "nbconvert_exporter": "python",
   "pygments_lexer": "ipython3",
   "version": "3.8.8"
  }
 },
 "nbformat": 4,
 "nbformat_minor": 5
}
